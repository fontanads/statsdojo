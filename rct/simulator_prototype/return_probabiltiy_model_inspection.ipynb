{
 "cells": [
  {
   "cell_type": "code",
   "execution_count": 1,
   "metadata": {},
   "outputs": [],
   "source": [
    "from return_probability_model import main\n",
    "import matplotlib.pyplot as plt"
   ]
  },
  {
   "cell_type": "code",
   "execution_count": 8,
   "metadata": {},
   "outputs": [],
   "source": [
    "inactive_days = range(0, 90)\n",
    "\n",
    "d1_return_prob = 0.1\n",
    "d7_return_prob = 0.2\n",
    "\n",
    "tau_window_days = 14  # most returns happen within 14 days\n",
    "tau_window_weeks = 4  # most returns happen within 4 weeks\n",
    "\n",
    "return_probabilities, next_day_probs, next_week_probs = main(\n",
    "    inactive_days, \n",
    "    prob_next_day=d1_return_prob, \n",
    "    prob_next_week=d7_return_prob, \n",
    "    tau_window_days=tau_window_days,\n",
    "    tau_window_weeks=tau_window_weeks\n",
    ")"
   ]
  },
  {
   "cell_type": "code",
   "execution_count": 9,
   "metadata": {},
   "outputs": [],
   "source": [
    "assert next_day_probs[0] == d1_return_prob\n",
    "assert next_week_probs[0] == d7_return_prob"
   ]
  },
  {
   "cell_type": "code",
   "execution_count": null,
   "metadata": {},
   "outputs": [],
   "source": [
    "plt.stem(inactive_days, next_day_probs, label='Next day', markerfmt='ro', linefmt='r--', basefmt='r-')\n",
    "plt.stem(inactive_days, next_week_probs, label='Next week', markerfmt='bo', linefmt='b--', basefmt='b-')\n",
    "plt.stem(inactive_days, return_probabilities, label='Combined', markerfmt='go', linefmt='g--', basefmt='g-')\n",
    "plt.xlabel('Days inactive')\n",
    "plt.ylabel('Return probability')\n",
    "plt.legend()\n",
    "plt.yscale('log')\n",
    "plt.show()"
   ]
  }
 ],
 "metadata": {
  "kernelspec": {
   "display_name": ".venv",
   "language": "python",
   "name": "python3"
  },
  "language_info": {
   "codemirror_mode": {
    "name": "ipython",
    "version": 3
   },
   "file_extension": ".py",
   "mimetype": "text/x-python",
   "name": "python",
   "nbconvert_exporter": "python",
   "pygments_lexer": "ipython3",
   "version": "3.11.1"
  }
 },
 "nbformat": 4,
 "nbformat_minor": 2
}
