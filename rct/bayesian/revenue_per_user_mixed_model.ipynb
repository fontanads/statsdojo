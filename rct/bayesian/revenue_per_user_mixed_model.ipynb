{
 "cells": [
  {
   "cell_type": "markdown",
   "metadata": {},
   "source": [
    "Implementing a toy simulation for Bayesian A/B test with continuously distributed success metric on a mixed model that depends on a binary bootleneck.  "
   ]
  },
  {
   "cell_type": "markdown",
   "metadata": {},
   "source": [
    "Context:  \n",
    "- user-level randomization\n",
    "- two groups\n",
    "- imbalanced weights\n",
    "- same user can have repeated measurements\n",
    "- multiple aggregation levels\n",
    "  - many reads a day\n",
    "  - daily aggregation\n",
    "  - cumulative aggregation over period"
   ]
  },
  {
   "cell_type": "markdown",
   "metadata": {},
   "source": [
    "Examples of practical business metrics that match the case:\n",
    "- revenue / user\n",
    "- transactions / user (approx. as we know transactions follow a discrete distribution)"
   ]
  },
  {
   "cell_type": "markdown",
   "metadata": {},
   "source": [
    "From brainstorm with LLM:  \n",
    "\n",
    "# Suitable Modeling Approaches:\n",
    "Because the metric involves a mix of discrete (conversion) and continuous (transaction value) components, you should consider a two-part model to account for these different aspects.\n",
    "\n",
    "## 1. Zero-Inflated or Hurdle Models\n",
    "\n",
    "Since not all users make purchases, there are many zero-revenue users, and you need to account for this excess of zeros. Two popular approaches to handle this are zero-inflated models or hurdle models.\n",
    "\n",
    "### Zero-Inflated Model: \n",
    "\n",
    "This model assumes that users come from two latent groups — those who will never make a purchase and those who may or may not make a purchase, based on some probability. In this case, the revenue per user is modeled as:\n",
    "\n",
    "$$\n",
    "P(\\text{Revenue per User}=0)=(\\text{Probability of no purchase group}) + (\\text{Probability of purchase group but no purchase})\n",
    "$$\n",
    "\n",
    "The second group, if they do make a purchase, follows a continuous distribution for the transaction value.\n",
    "\n",
    "### Hurdle Model:  \n",
    "This model assumes that all zeros come from users who do not convert (i.e., they do not \"pass the hurdle\" of making a purchase), and once users convert, their transaction values follow a continuous distribution (e.g., Gamma or Log-Normal). The hurdle is passed with some probability, and the distribution of revenue applies only to users who have converted.\n",
    "\n",
    "## Log-Normal or Gamma for Transaction Value (Non-Zero Revenue)\n",
    "\n",
    "For users who make a purchase, the transaction value (revenue per user) is continuous, positive, and unbounded, but skewed (with some users potentially making very large purchases). Two common distributions for modeling such data are:\n",
    "\n",
    "### Log-Normal Distribution:  \n",
    "\n",
    "This is a good candidate when the revenue is positively skewed and the log of the transaction value is normally distributed.  \n",
    "The Log-Normal distribution handles unbounded positive data and allows for long tails, which could accommodate a few users making very large purchases.\n",
    "\n",
    "$$\n",
    "\\text{Revenue} \\sim \\log-\\text{Normal}(\\mu,\\sigma^2)\n",
    "$$\n",
    "\n",
    "### Gamma Distribution: \n",
    "The Gamma distribution is another suitable choice for modeling positive, continuous data, especially when the data is skewed.  \n",
    "Like the Log-Normal, the Gamma distribution handles unbounded positive data and can be parameterized with a shape and rate (or scale) parameter.\n",
    "\n",
    "$$\n",
    "\\text{Revenue} \\sim \\text{Gamma}(\\alpha, \\beta)\n",
    "$$\n",
    "\n",
    "## Two-Part Model (Combining Discrete and Continuous Parts)\n",
    "A two-part model combines the discrete conversion probability and the continuous transaction value for those who convert. For example:  \n",
    "\n",
    "### Part 1: Conversion Probability: \n",
    "You can model the probability of conversion (purchase) using a Bernoulli or Logistic Regression model, which would predict whether a user converts or not:\n",
    "\n",
    "$$\n",
    "\\text{Conversion}\\sim \\text{Bernoulli}(p)\n",
    "$$\n",
    "\n",
    "Here, $p$ is the probability that a user makes a purchase.  \n",
    "\n",
    "### Part 2: Transaction Value:   \n",
    "\n",
    "For users who do convert, model the non-zero transaction value using either a Gamma or Log-Normal distribution, as discussed above.  \n",
    "The overall likelihood can then be constructed as a combination of these two parts:\n",
    "\n",
    "$$\n",
    "P(\\text{Revenue per user}) = P(\\text{conversion}) \\times P(\\text{Transaction Value} | \\text{Conversion})\n",
    "$$"
   ]
  },
  {
   "cell_type": "code",
   "execution_count": 1,
   "metadata": {},
   "outputs": [],
   "source": [
    "import numpy as np\n",
    "import matplotlib.pyplot as plt\n",
    "import pandas as pd"
   ]
  },
  {
   "cell_type": "markdown",
   "metadata": {},
   "source": [
    "# Data Generating Process"
   ]
  },
  {
   "cell_type": "markdown",
   "metadata": {},
   "source": [
    "Just a toy example with ideally Gaussian distributed before we go into a more structured dataset.  \n",
    "Let's ignore the daily grains for a moment and assume a single observation per randomization unit.  "
   ]
  },
  {
   "cell_type": "markdown",
   "metadata": {},
   "source": [
    "We're going to use a two-part likelihood model for the revenue per user:  \n",
    "$$\n",
    "P(\\text{Revenue per user}) = P(\\text{conversion}) \\times P(\\text{Transaction Value} | \\text{Conversion})\n",
    "$$"
   ]
  },
  {
   "cell_type": "markdown",
   "metadata": {},
   "source": [
    "In order to contribute to revenue per user, a user has to first convert (decide to pay), which is a binary process explained by $P(\\text{conversion})$.  \n",
    "As we can see, once users decided to pay, their transaction value is sampled from $P(\\text{Transaction Value} | \\text{Conversion})$.  \n",
    "If we'd sample transaction value from the total population (converted and not-converted users), a big mass of users would inflate the distribution `@ transaction value = 0`.  "
   ]
  },
  {
   "cell_type": "markdown",
   "metadata": {},
   "source": [
    "Some definitions:  \n",
    "\n",
    "Dataset $\\cal{D}=\\lbrace y_i, t_i \\rbrace$ $\\forall i=1, \\ldots, N$ is the observed data (evidence, variables of the likelihood function):\n",
    "- $y_i \\in \\lbrace 0, 1 \\rbrace$: represents weather user $i$ converted ($y_i=1$) or not ($y_i=0$)  \n",
    "- $t_i \\in \\mathbb{R}$ (or maybe $\\mathbb{R}^+$ would make more sense if we want to ignore negative income e.g. refunds, free/discounted items, etc.)  \n",
    "\n",
    "Random variables, whose distributions are defined by the parameters we wish to estimate and its priors assumptions:  \n",
    "- $p$: is the probability of conversion, \n",
    "  - it follows a prior $p \\sim \\text{Beta}(\\alpha_p ,\\beta_p)$ \n",
    "  - we have to estimate both $\\alpha_p$ and $\\beta_p$    \n",
    "- $T$ is the transaction value for converters\n",
    "  - assumed to follow a continuous distribution, say $T \\sim \\text{Gamma}(\\alpha_T ,\\beta_T)$, \n",
    "  - where $\\alpha_T$ and $\\beta_T$ are the shape and rate parameters, respectively, **with their own priors**\n",
    "\n",
    "Let's break it down for both $\\alpha_T$ (shape) and $\\beta_T$ (rate), and we'll explore how to set the parameters $a_T$, $b_T$ (for $\\alpha_T$) and $c_T$, $d_T$ (for $\\beta_T$).\n",
    "\n",
    "## 1. Setting Priors for $\\alpha_T$ (Shape Parameter)\n",
    "The shape parameter $\\alpha_T$ in a Gamma distribution affects the skewness and the behavior of the distribution:\n",
    "\n",
    "- If $\\alpha_T > 1$, the Gamma distribution is unimodal and more symmetrical.\n",
    "- If $\\alpha_T=1$, the Gamma distribution becomes an exponential distribution.\n",
    "- If $\\alpha_T<1$, the Gamma distribution is highly skewed.\n",
    "\n",
    "The goal is to set a Gamma prior on $\\alpha_T$ with parameters $a_T$ and $b_T$.\n",
    "\n",
    "### Choice of $a_T$ and $b_T$ (Gamma Prior for $\\alpha_T$):\n",
    "\n",
    "- **Non-informative Prior**: A Gamma(1, 1) prior on 𝛼ₜ would serve as a common non-informative prior, allowing 𝛼ₜ to vary freely while being positive. This prior reflects a weak belief that 𝛼ₜ is around 1 (exponential), but allows for a wide range of possible values.\n",
    "- **Weakly Informative Prior**: If you want a more diffuse prior, you can choose Gamma(0.001, 0.001) to make it almost flat, which is commonly used when we want the prior to have little influence. This means that 𝛼ₜ can take any positive value, with very weak prior information.\n",
    "\n",
    "## 2. Setting Priors for $\\beta_T$ (Rate Parameter)\n",
    "The rate parameter $\\beta_T$ (inverse of the scale) in the Gamma distribution determines how spread out the distribution is:\n",
    "\n",
    "- Smaller values of $\\beta_T$ correspond to more spread (larger expected transaction values).\n",
    "- Larger values of $\\beta_T$ correspond to tighter distributions around smaller values.\n",
    "\n",
    "You want a Gamma prior on $\\beta_T$ with parameters $c_T$ and $d_T$.\n",
    "\n",
    "### Choice of $c_T$ and $d_T$ (Gamma Prior for $\\beta_T$):\n",
    "- **Non-informative Prior**: A Gamma(1, 1) prior on $\\beta_T$ would act as a non-informative prior, implying that you have little information about the rate, but expect it to be around 1. This choice means that the prior is centered around 1, but allows for a wide range of possible rate values.\n",
    "- **Weakly Informative Prior**: If you want the prior to be even less informative, Gamma(0.001, 0.001) can be used, meaning you have almost no prior information about $\\beta_T$, allowing it to be highly uncertain.\n",
    "\n",
    "## Summary of Priors for $\\alpha_T$ and $\\beta_T$:\n",
    "- **For $\\alpha_T$ (shape of the Gamma distribution for transaction values):**\n",
    "  - Non-informative prior: Gamma(1, 1)\n",
    "  - Weakly informative prior: Gamma(0.001, 0.001)\n",
    "  \n",
    "- **For $\\beta_T$ (rate of the Gamma distribution for transaction values):**\n",
    "  - Non-informative prior: Gamma(1, 1)\n",
    "  - Weakly informative prior: Gamma(0.001, 0.001)\n"
   ]
  },
  {
   "cell_type": "markdown",
   "metadata": {},
   "source": [
    "## Posterior Distribution Derivation"
   ]
  },
  {
   "cell_type": "markdown",
   "metadata": {},
   "source": [
    "Let's derive the posterior distribution.  \n",
    "We have defined our priors above, and our likelihood format.  \n",
    "Assumptions (typical) we'll make are:\n",
    "- joint users distribution can be broken into a product of independent user-level distributions (i.i.d. samples)\n",
    "- priors joint is also broken with independency assumption\n",
    "- we'll ignore $P(\\mathcal{D})$ denominator as it is a constant value independent of the parameters in the posterior equation"
   ]
  },
  {
   "cell_type": "markdown",
   "metadata": {},
   "source": [
    "### Likelihood function:"
   ]
  },
  {
   "cell_type": "markdown",
   "metadata": {},
   "source": [
    "$$P(\\text{Revenue per User}) = P(y_i = 1 ∣ p) P(t_i ∣ y_i =1, \\alpha_T , \\beta_T )$$\n",
    "\n",
    "- if user does not convert, i.e $y_i=0$\n",
    "$$P(\\text{Revenue per User} | y_i=0) = P(y_i = 0 ∣ p) = 1 -p $$\n",
    "\n",
    "- if user converts, i.e. $y_i=1$\n",
    "  - The probability of conversion $p$.\n",
    "  - The likelihood of the observed transaction value given the parameters of the Gamma distribution.\n",
    "\n",
    "$$P(\\text{Revenue per User} | y_i=1) = p \\times \\text{Gamma}(t_i | \\alpha_T, \\beta_T) = p \\dfrac{\\beta_T ^ {\\alpha_T}}{\\Gamma(\\alpha_T)} t_i^{\\alpha_T-1}\\exp{(-\\beta_T t_i)}$$\n",
    "\n",
    "Thus the overall likelihood will be:\n",
    "$$\n",
    "P(\\mathcal{D} | p, \\alpha_T, \\beta_T) = \\prod_{i=1}^{N} \\left[ (1-p)^{1-y_i} \\times \\left(  p \\dfrac{\\beta_T ^ {\\alpha_T}}{\\Gamma(\\alpha_T)} t_i^{\\alpha_T-1}\\exp{(-\\beta_T t_i)} \\right)^{y_i} \\right]\n",
    "$$"
   ]
  },
  {
   "cell_type": "markdown",
   "metadata": {},
   "source": [
    "### Prior Equations"
   ]
  },
  {
   "cell_type": "markdown",
   "metadata": {},
   "source": [
    "As we've defined the priors before, let's just expand their distribution density equations here:"
   ]
  },
  {
   "cell_type": "markdown",
   "metadata": {},
   "source": [
    "For conversion probability $p$, we place a Beta prior: $\\text{Beta}(\\alpha_p ,\\beta_p)$:\n",
    "$$\n",
    "P(p)= \\dfrac{p^{\\alpha_p - 1} (1-p)^{\\beta_p-1}}{B(\\alpha_p, \\beta_p)}\n",
    "$$"
   ]
  },
  {
   "cell_type": "markdown",
   "metadata": {},
   "source": [
    "For transaction value parameters, we place priors on $\\alpha_T$ and $\\beta_T$.  \n",
    "For simplicity, **we assume independent Gamma priors**:\n",
    "- $\\alpha_T \\sim \\text{Gamma}(a_T, b_T)$\n",
    "- $\\beta_T \\sim \\text{Gamma}(c_T, d_T)$  \n",
    "\n",
    "where $p(x; \\alpha, \\beta)$ for a Gamma distribution is given by:\n",
    "$$\n",
    "p(x) = \\dfrac{\\beta ^ \\alpha}{\\Gamma(\\alpha)}x^{\\alpha-1}\\exp{(-\\beta x)}\n",
    "$$"
   ]
  },
  {
   "cell_type": "markdown",
   "metadata": {},
   "source": [
    "### Posterior Equation"
   ]
  },
  {
   "cell_type": "markdown",
   "metadata": {},
   "source": [
    "$$\n",
    "P(p, \\alpha_T, \\beta_T | \\mathcal{D} )  = \\dfrac{P(\\mathcal{D} | p, \\alpha_T, \\beta_T) \\times P(p, \\alpha_T, \\beta_T) }{P(\\mathcal{D}) }\n",
    "$$\n",
    "\n",
    "$$\n",
    "P(p, \\alpha_T, \\beta_T | \\mathcal{D} )  \\propto P(\\mathcal{D} | p, \\alpha_T, \\beta_T) \\times P(p) \\times P(\\alpha_T) \\times P(\\beta_T) \n",
    "$$\n",
    "\n",
    "$$\n",
    "P(p, \\alpha_T, \\beta_T | \\mathcal{D} )  \\propto  \\\\\n",
    "\\prod_{i=1}^{N} \\left[ (1-p)^{1-y_i} \\times \\left(  p \\dfrac{\\beta_T ^ {\\alpha_T}}{\\Gamma(\\alpha_T)} t_i^{\\alpha_T-1}\\exp{(-\\beta_T t_i)} \\right)^{y_i} \\right]  \\\\\n",
    "\\times \n",
    "p^{\\alpha_p - 1} (1-p)^{\\beta_p - 1} \\\\\n",
    "\\times\n",
    "\\alpha_T^{a_T-1}\\exp{(-b_T \\alpha_T)} \\\\\n",
    "\\times\n",
    "\\beta_T^{c_T-1}\\exp{(-d_T \\beta_T)} \n",
    "$$\n",
    "\n",
    "where scaling parts of the priors $\\dfrac{1}{B(\\alpha_p, \\beta_p)}, \\dfrac{b_T^{a_T}}{\\Gamma(a_T)}, \\dfrac{d_T^{c_T}}{\\Gamma(c_T)}$ have also been removed since they are constants w.r.t. the posterior parameters $p, \\alpha_T, \\beta_T$.  \n",
    "\n",
    "\n"
   ]
  },
  {
   "cell_type": "markdown",
   "metadata": {},
   "source": [
    "### Log-posterior"
   ]
  },
  {
   "cell_type": "markdown",
   "metadata": {},
   "source": [
    "Maximizing the posterior in Bayesian estimation is equivalent to maximizing the logarithm of the posterior.  \n",
    "This is because the logarithm is a monotonically increasing function, meaning that the values that maximize the posterior probability will also maximize its logarithm.  \n",
    "There are benefits in writing the posterior in log form, both for numerical stability as well as for simplification of the products into sums that my put in evidence useful statistics from the data variables.  "
   ]
  },
  {
   "cell_type": "markdown",
   "metadata": {},
   "source": [
    "Taking the log on the above equation of the posterior leads to:"
   ]
  },
  {
   "cell_type": "markdown",
   "metadata": {},
   "source": [
    "$$\n",
    "\\log P(p, \\alpha_T, \\beta_T \\mid D) \\propto \n",
    "\\sum_{i=1}^{N} \\left[ (1 - y_i) \\log(1 - p) + y_i \\left( \\log(p) + \\alpha_T \\log(\\beta_T) - \\log(\\Gamma(\\alpha_T)) + (\\alpha_T - 1) \\log(t_i) - \\beta_T t_i \\right) \\right] \\\\\n",
    "+ (\\alpha_p - 1) \\log(p) + (\\beta_p - 1) \\log(1 - p) \\\\\n",
    "+ (a_T - 1) \\log(\\alpha_T) - b_T \\alpha_T \\\\\n",
    "+ (c_T - 1) \\log(\\beta_T) - d_T \\beta_T.\n",
    "\n",
    "$$"
   ]
  },
  {
   "cell_type": "markdown",
   "metadata": {},
   "source": [
    "Let's define the following term that depend only on statistics of the dataset $\\mathcal{D}$:\n",
    "- $n_s=\\sum_{i=1}^{N} y_i$ (num of converted users)\n",
    "- $n_f= N - n_s$ (num of unconverted users)\n",
    "- $H(y,t)=\\sum_{i=1}^{N} y_i \\log(t_i)$\n",
    "- $R(y,t)=\\sum_{i=1}^{N} y_i t_i$\n",
    "\n",
    "Further simplification leads to:"
   ]
  },
  {
   "cell_type": "markdown",
   "metadata": {},
   "source": [
    "$$\n",
    "\\log P(p, \\alpha_T, \\beta_T \\mid D = \\{y_i, t_i\\}) \\propto\n",
    "$$\n",
    "\n",
    "$$\n",
    "\\log(p) \\cdot (n_s + \\alpha_p - 1) + \\log(1 - p) \\cdot (n_f + \\beta_p - 1)\n",
    "$$\n",
    "\n",
    "$$\n",
    "+ \\alpha_T \\cdot \\left( H(y,t) - b_T \\right) + \\log(\\alpha_T) \\cdot (a_T - 1) - \\log(\\Gamma(\\alpha_T)) \\cdot n_s\n",
    "$$\n",
    "\n",
    "$$\n",
    "+ \\beta_T \\cdot \\left( d_T + R(y,t) \\right) + \\log(\\beta_T) \\cdot (c_T - 1)\n",
    "$$  \n",
    "\n",
    "$$\n",
    "+ \\alpha_T \\log(\\beta_T) \\cdot n_s\n",
    "$$"
   ]
  },
  {
   "cell_type": "markdown",
   "metadata": {},
   "source": [
    "where a constant term $-H(y,t)$ has been discarded as it is constant w.r.t. to posterior density variables.  \n",
    "Also remark terms have been rearranged to follow the order of:\n",
    "- $p$-dependent terms\n",
    "- $\\alpha_T$-dependent terms\n",
    "- $\\beta_T$-dependent terms\n",
    "- cross-dependency between $\\alpha_T$ and $\\beta_T$ terms"
   ]
  },
  {
   "cell_type": "markdown",
   "metadata": {},
   "source": [
    "# Synthetic data"
   ]
  },
  {
   "cell_type": "markdown",
   "metadata": {},
   "source": [
    "To understand if our models work, we need synthetic data with known true parameters.  \n",
    "Below we define some of them and auxiliar functions to connect them with mean values of a source distribution.  \n",
    "This is necessary as we normally start from business metric statistics (e.g. avg. user conversion rates, avg. ticket value, as well as its dispersion statistics) and we will want to reproduce these in the synthetic data generation models we'll build.  "
   ]
  },
  {
   "cell_type": "code",
   "execution_count": 2,
   "metadata": {},
   "outputs": [],
   "source": [
    "# auxiliar functions\n",
    "def conversion_params_given_true_p(true_p, num_samples=2, alpha_0=1, beta_0=1):\n",
    "    \"\"\"Returns the alpha and beta parameters of a Beta distribution given the true conversion probability.  \n",
    "    Num_samples proxies a precision of the beta distribution (alpha + beta).\n",
    "    alpha_0 and beta_0 are the prior parameters of the Beta distribution.\n",
    "    \"\"\"\n",
    "    num_success = num_samples * true_p\n",
    "    num_fails = num_samples - num_success\n",
    "    \n",
    "    alpha = num_success + alpha_0\n",
    "    beta = num_fails + beta_0\n",
    "\n",
    "    return alpha, beta\n",
    "\n",
    "def transaction_parameters_given_average_ticket_value(atv, std):\n",
    "    \"\"\"Returns the shape and rate parameters of a Gamma distribution given known values for average ticket value and its standard deviation (spread).\"\"\"\n",
    "    \n",
    "    # just rewriting parameters to be explicit with dependencies on ratio among location / dispersion statistics\n",
    "    coeff_of_var = std / atv\n",
    "    dispersion_index = (std ** 2) / atv\n",
    "\n",
    "    # these come from the relationship between the mean and variance of a Gamma distribution\n",
    "    alpha = 1 / (coeff_of_var ** 2)\n",
    "    beta = 1 / dispersion_index\n",
    "    return alpha, beta\n",
    "\n",
    "def users_probability_conversion(alpha_p, beta_p, num_users):\n",
    "    \"\"\"Samples the conversion probability for each user from a Beta distribution.\"\"\"\n",
    "    p = np.random.beta(alpha_p, beta_p, size=num_users)\n",
    "    return p\n",
    "\n",
    "def users_conversion_status(p):\n",
    "    \"\"\"Simulates the conversion status (0 or 1) for each user based on the conversion probability.\"\"\"\n",
    "    conversions = np.random.binomial(1, p, size=len(p))\n",
    "    return conversions\n",
    "\n",
    "def users_transaction_values(alpha_t, beta_t, num_users):\n",
    "    \"\"\"Assuming every user converted, samples transaction values from a Gamma distribution.\"\"\"\n",
    "    transaction_values = np.random.gamma(alpha_t, 1 / beta_t, size=num_users)\n",
    "    return transaction_values\n",
    "\n",
    "def simulate_user_data(true_prob_user_converting, atv, std, num_users, seed=0):\n",
    "    # Set seed for reproducibility\n",
    "    np.random.seed(seed)\n",
    "    \n",
    "    # Calculate the parameters of the Beta distribution for conversion probability\n",
    "    alpha_p, beta_p = conversion_params_given_true_p(true_prob_user_converting, num_users)\n",
    "    \n",
    "    # Calculate the parameters of the Gamma distribution for transaction values\n",
    "    alpha_t, beta_t = transaction_parameters_given_average_ticket_value(atv, std)\n",
    "    \n",
    "    # Simulate user conversions\n",
    "    p = users_probability_conversion(alpha_p, beta_p, num_users)\n",
    "    conversions = users_conversion_status(p)\n",
    "    \n",
    "    # Simulate transaction values for converting users\n",
    "    transaction_values = users_transaction_values(alpha_t, beta_t, num_users)\n",
    "    \n",
    "    # review this part! our posterior accounts for including ti only when yi=0 already\n",
    "    # nulls for non-converting users\n",
    "    # transaction_values[conversions == 0] = 0 \n",
    "    \n",
    "    return conversions, transaction_values"
   ]
  },
  {
   "cell_type": "code",
   "execution_count": 3,
   "metadata": {},
   "outputs": [
    {
     "name": "stdout",
     "output_type": "stream",
     "text": [
      "True conversion rate: 10.00%\n",
      "Calculated Beta parameters -> alpha_p: 1001.00, beta_p: 9001.00\n",
      "True average ticket value: 10.00, True std of transaction values per user: 20.00\n",
      "Calculated Gamma parameters -> alpha_T: 0.25, beta_T: 0.03\n"
     ]
    }
   ],
   "source": [
    "# hyperparameters\n",
    "num_users = 10000\n",
    "\n",
    "# conversion rate true parameters\n",
    "true_prob_user_converting = 0.1\n",
    "true_alpha_p, true_beta_p = conversion_params_given_true_p(true_prob_user_converting, num_users, alpha_0=1, beta_0=1)\n",
    "\n",
    "print(f\"True conversion rate: {true_prob_user_converting:.2%}\")\n",
    "print(f\"Calculated Beta parameters -> alpha_p: {true_alpha_p:.2f}, beta_p: {true_beta_p:.2f}\")\n",
    "\n",
    "# transaction value true parameters\n",
    "true_atv = 10  # average ticket value (atv)\n",
    "true_txs_std = 20 # spread (std) of revenue/transaction; normally large spread due to long tail of revenue distribution\n",
    "true_alpha_T, true_beta_T = transaction_parameters_given_average_ticket_value(true_atv, true_txs_std)\n",
    "\n",
    "print(f\"True average ticket value: {true_atv:.2f}, True std of transaction values per user: {true_txs_std:.2f}\")\n",
    "print(f\"Calculated Gamma parameters -> alpha_T: {true_alpha_T:.2f}, beta_T: {true_beta_T:.2f}\")\n"
   ]
  },
  {
   "cell_type": "markdown",
   "metadata": {},
   "source": [
    "## Generating toy example data and inspecting"
   ]
  },
  {
   "cell_type": "code",
   "execution_count": 4,
   "metadata": {},
   "outputs": [
    {
     "name": "stdout",
     "output_type": "stream",
     "text": [
      "Number of users: 10000\n",
      "Number of converted users: 1015\n",
      "Total revenue from converted users: $11472.89\n",
      "Average revenue per user (RPU): $1.15\n",
      "Average revenue per converted user: $11.30\n"
     ]
    }
   ],
   "source": [
    "# Simulate user conversions: conversion probabilities from the Beta distribution\n",
    "p = users_probability_conversion(true_alpha_p, true_beta_p, num_users)\n",
    "\n",
    "# Simulate whether each user converted or not (Bernoulli trial)\n",
    "conversions = users_conversion_status(p)\n",
    "\n",
    "# Simulate transaction values for converting users\n",
    "transaction_values = users_transaction_values(true_alpha_T, true_beta_T, num_users)\n",
    "\n",
    "# we actually only observe transaction values for converted users\n",
    "transaction_values_observed = conversions * transaction_values\n",
    "\n",
    "# Summary statistics\n",
    "num_converted_users = np.sum(conversions)\n",
    "total_revenue = np.sum(transaction_values_observed)\n",
    "\n",
    "# Print summary\n",
    "print(f\"Number of users: {num_users}\")\n",
    "print(f\"Number of converted users: {num_converted_users}\")\n",
    "print(f\"Total revenue from converted users: ${total_revenue:.2f}\")\n",
    "print(f\"Average revenue per user (RPU): ${total_revenue / num_users:.2f}\")\n",
    "print(f\"Average revenue per converted user: ${total_revenue / num_converted_users:.2f}\")"
   ]
  },
  {
   "cell_type": "code",
   "execution_count": 5,
   "metadata": {},
   "outputs": [
    {
     "data": {
      "image/png": "[encoded data removed]",
      "text/plain": [
       "<Figure size 1200x600 with 2 Axes>"
      ]
     },
     "metadata": {},
     "output_type": "display_data"
    },
    {
     "data": {
      "image/png": "[encoded data removed]",
      "text/plain": [
       "<Figure size 640x480 with 1 Axes>"
      ]
     },
     "metadata": {},
     "output_type": "display_data"
    }
   ],
   "source": [
    "fig, ax = plt.subplots(2, 1, figsize=(12, 6), sharex=True)\n",
    "\n",
    "# Visualize the distribution of transaction values for all users\n",
    "ax[0].hist(transaction_values_observed, bins=100, color='skyblue', edgecolor='black')\n",
    "ax[0].set_title(\"Observed Transaction Values (for ALL Users, converted and non-converted)\")\n",
    "ax[0].set_ylabel(\"Frequency\")\n",
    "\n",
    "# Visualize the distribution of transaction values for converting users\n",
    "ax[1].hist(transaction_values[conversions > 0], bins=100, color='skyblue', edgecolor='black')\n",
    "ax[1].set_title(\"Transaction Values (for Converted Users)\")\n",
    "ax[1].set_xlabel(\"Transaction Value\")\n",
    "ax[1].set_ylabel(\"Frequency\")\n",
    "\n",
    "# Set common y-axis label for both subplots\n",
    "fig.text(0.04, 0.5, 'Frequency', va='center', rotation='vertical')\n",
    "\n",
    "# Plot conversion histogram\n",
    "plt.figure()\n",
    "plt.hist(conversions, bins=2, color='lightcoral', edgecolor='black', rwidth=0.6)\n",
    "plt.title(\"Conversion Status of Users\")\n",
    "plt.xlabel(\"Conversion (0 = No, 1 = Yes)\")\n",
    "plt.ylabel(\"Number of Users\")\n",
    "plt.xticks([0, 1])\n",
    "plt.show()"
   ]
  },
  {
   "cell_type": "markdown",
   "metadata": {},
   "source": [
    "## A/B test Data Generation"
   ]
  },
  {
   "cell_type": "markdown",
   "metadata": {},
   "source": [
    "Before we generate the data, let's just set our prior constants for the following simulation.  "
   ]
  },
  {
   "cell_type": "code",
   "execution_count": 6,
   "metadata": {},
   "outputs": [],
   "source": [
    "# priors for conversion probability\n",
    "alpha_0_p = 1\n",
    "beta_0_p = 1\n",
    "\n",
    "# priors for transaction value\n",
    "a0_T = 0.001\n",
    "b0_T = 0.001\n",
    "c0_T = 0.001\n",
    "d0_T = 0.001"
   ]
  },
  {
   "cell_type": "markdown",
   "metadata": {},
   "source": [
    "Now we generate two datasets, with weighted number of samples for some given split we're observing.  \n",
    "Each group (let's name them control and treatment) has its own true business metrics avg. values which we'll use as reference to evaluate our estimators.    "
   ]
  },
  {
   "cell_type": "code",
   "execution_count": 7,
   "metadata": {},
   "outputs": [
    {
     "data": {
      "text/html": [
       "<div>\n",
       "<style scoped>\n",
       "    .dataframe tbody tr th:only-of-type {\n",
       "        vertical-align: middle;\n",
       "    }\n",
       "\n",
       "    .dataframe tbody tr th {\n",
       "        vertical-align: top;\n",
       "    }\n",
       "\n",
       "    .dataframe thead th {\n",
       "        text-align: right;\n",
       "    }\n",
       "</style>\n",
       "<table border=\"1\" class=\"dataframe\">\n",
       "  <thead>\n",
       "    <tr style=\"text-align: right;\">\n",
       "      <th></th>\n",
       "      <th>Group</th>\n",
       "      <th>Conversions</th>\n",
       "      <th>TransactionValue</th>\n",
       "      <th>TransactionConvertedValue</th>\n",
       "    </tr>\n",
       "  </thead>\n",
       "  <tbody>\n",
       "    <tr>\n",
       "      <th>0</th>\n",
       "      <td>A</td>\n",
       "      <td>0</td>\n",
       "      <td>0.609606</td>\n",
       "      <td>0.0</td>\n",
       "    </tr>\n",
       "    <tr>\n",
       "      <th>1</th>\n",
       "      <td>A</td>\n",
       "      <td>0</td>\n",
       "      <td>11.168263</td>\n",
       "      <td>0.0</td>\n",
       "    </tr>\n",
       "    <tr>\n",
       "      <th>2</th>\n",
       "      <td>A</td>\n",
       "      <td>0</td>\n",
       "      <td>0.128395</td>\n",
       "      <td>0.0</td>\n",
       "    </tr>\n",
       "    <tr>\n",
       "      <th>3</th>\n",
       "      <td>A</td>\n",
       "      <td>0</td>\n",
       "      <td>22.577405</td>\n",
       "      <td>0.0</td>\n",
       "    </tr>\n",
       "    <tr>\n",
       "      <th>4</th>\n",
       "      <td>A</td>\n",
       "      <td>0</td>\n",
       "      <td>9.680209</td>\n",
       "      <td>0.0</td>\n",
       "    </tr>\n",
       "    <tr>\n",
       "      <th>...</th>\n",
       "      <td>...</td>\n",
       "      <td>...</td>\n",
       "      <td>...</td>\n",
       "      <td>...</td>\n",
       "    </tr>\n",
       "    <tr>\n",
       "      <th>99995</th>\n",
       "      <td>B</td>\n",
       "      <td>0</td>\n",
       "      <td>0.060682</td>\n",
       "      <td>0.0</td>\n",
       "    </tr>\n",
       "    <tr>\n",
       "      <th>99996</th>\n",
       "      <td>B</td>\n",
       "      <td>0</td>\n",
       "      <td>0.000971</td>\n",
       "      <td>0.0</td>\n",
       "    </tr>\n",
       "    <tr>\n",
       "      <th>99997</th>\n",
       "      <td>B</td>\n",
       "      <td>0</td>\n",
       "      <td>6.256679</td>\n",
       "      <td>0.0</td>\n",
       "    </tr>\n",
       "    <tr>\n",
       "      <th>99998</th>\n",
       "      <td>B</td>\n",
       "      <td>0</td>\n",
       "      <td>0.451106</td>\n",
       "      <td>0.0</td>\n",
       "    </tr>\n",
       "    <tr>\n",
       "      <th>99999</th>\n",
       "      <td>B</td>\n",
       "      <td>0</td>\n",
       "      <td>9.120623</td>\n",
       "      <td>0.0</td>\n",
       "    </tr>\n",
       "  </tbody>\n",
       "</table>\n",
       "<p>100000 rows × 4 columns</p>\n",
       "</div>"
      ],
      "text/plain": [
       "      Group  Conversions  TransactionValue  TransactionConvertedValue\n",
       "0         A            0          0.609606                        0.0\n",
       "1         A            0         11.168263                        0.0\n",
       "2         A            0          0.128395                        0.0\n",
       "3         A            0         22.577405                        0.0\n",
       "4         A            0          9.680209                        0.0\n",
       "...     ...          ...               ...                        ...\n",
       "99995     B            0          0.060682                        0.0\n",
       "99996     B            0          0.000971                        0.0\n",
       "99997     B            0          6.256679                        0.0\n",
       "99998     B            0          0.451106                        0.0\n",
       "99999     B            0          9.120623                        0.0\n",
       "\n",
       "[100000 rows x 4 columns]"
      ]
     },
     "execution_count": 7,
     "metadata": {},
     "output_type": "execute_result"
    }
   ],
   "source": [
    "# fix random seed \n",
    "seed = 123456\n",
    "\n",
    "# tuple of parameters for each group: (true_prob_user_converting, true_atv, true_txs_std) \n",
    "params_per_group = {\n",
    "    \"A\": (0.1, 10, 20),\n",
    "    \"B\": (0.12, 10, 20)\n",
    "}\n",
    "\n",
    "# test splits hyperparameters\n",
    "num_total_users = 100000\n",
    "weight_control = 0.5\n",
    "weight_treatment = 1 - weight_control\n",
    "\n",
    "num_users_control = int(num_total_users * weight_control)\n",
    "num_users_treatment = num_total_users - num_users_control\n",
    "\n",
    "# datasets\n",
    "conversions_control, transaction_values_control = simulate_user_data(*params_per_group[\"A\"], num_users_control, seed=seed)\n",
    "conversions_treatment, transaction_values_treatment = simulate_user_data(*params_per_group[\"B\"], num_users_treatment, seed=seed + 1)\n",
    "\n",
    "\n",
    "# transform into pandas DataFrame for convenience\n",
    "__GROUP_COL__ = \"Group\"\n",
    "__CONVERSIONS_COL__ = \"Conversions\"\n",
    "__TRANSACTION_VALUE_COL__ = \"TransactionValue\"\n",
    "__TRANSACTION_CONVERTED_VALUE_COL__ = \"TransactionConvertedValue\"\n",
    "__CONTROL_LABEL__ = \"A\"\n",
    "__TREATMENT_LABEL__ = \"B\"\n",
    "\n",
    "df = pd.DataFrame({\n",
    "    __GROUP_COL__: [__CONTROL_LABEL__] * num_users_control + [__TREATMENT_LABEL__] * num_users_treatment,\n",
    "    __CONVERSIONS_COL__: np.concatenate([conversions_control, conversions_treatment]),\n",
    "    __TRANSACTION_VALUE_COL__: np.concatenate([transaction_values_control, transaction_values_treatment]), # this cannot be observed\n",
    "    __TRANSACTION_CONVERTED_VALUE_COL__: np.concatenate([transaction_values_control * conversions_control, transaction_values_treatment * conversions_treatment])  # this is what is actually observed\n",
    "})\n",
    "df"
   ]
  },
  {
   "cell_type": "markdown",
   "metadata": {},
   "source": [
    "Given a dataset like this, we can have data-drive point estimates per group.  "
   ]
  },
  {
   "cell_type": "code",
   "execution_count": 8,
   "metadata": {},
   "outputs": [
    {
     "data": {
      "text/html": [
       "<div>\n",
       "<style scoped>\n",
       "    .dataframe tbody tr th:only-of-type {\n",
       "        vertical-align: middle;\n",
       "    }\n",
       "\n",
       "    .dataframe tbody tr th {\n",
       "        vertical-align: top;\n",
       "    }\n",
       "\n",
       "    .dataframe thead tr th {\n",
       "        text-align: left;\n",
       "    }\n",
       "\n",
       "    .dataframe thead tr:last-of-type th {\n",
       "        text-align: right;\n",
       "    }\n",
       "</style>\n",
       "<table border=\"1\" class=\"dataframe\">\n",
       "  <thead>\n",
       "    <tr>\n",
       "      <th></th>\n",
       "      <th colspan=\"2\" halign=\"left\">Conversions</th>\n",
       "      <th colspan=\"2\" halign=\"left\">TransactionValue</th>\n",
       "      <th colspan=\"2\" halign=\"left\">TransactionConvertedValue</th>\n",
       "    </tr>\n",
       "    <tr>\n",
       "      <th></th>\n",
       "      <th>mean</th>\n",
       "      <th>std</th>\n",
       "      <th>mean</th>\n",
       "      <th>std</th>\n",
       "      <th>mean</th>\n",
       "      <th>std</th>\n",
       "    </tr>\n",
       "    <tr>\n",
       "      <th>Group</th>\n",
       "      <th></th>\n",
       "      <th></th>\n",
       "      <th></th>\n",
       "      <th></th>\n",
       "      <th></th>\n",
       "      <th></th>\n",
       "    </tr>\n",
       "  </thead>\n",
       "  <tbody>\n",
       "    <tr>\n",
       "      <th>A</th>\n",
       "      <td>0.10024</td>\n",
       "      <td>0.300323</td>\n",
       "      <td>10.052293</td>\n",
       "      <td>20.206232</td>\n",
       "      <td>1.053095</td>\n",
       "      <td>7.364634</td>\n",
       "    </tr>\n",
       "    <tr>\n",
       "      <th>B</th>\n",
       "      <td>0.12442</td>\n",
       "      <td>0.330063</td>\n",
       "      <td>9.984008</td>\n",
       "      <td>19.888507</td>\n",
       "      <td>1.237952</td>\n",
       "      <td>7.890833</td>\n",
       "    </tr>\n",
       "  </tbody>\n",
       "</table>\n",
       "</div>"
      ],
      "text/plain": [
       "      Conversions           TransactionValue             \\\n",
       "             mean       std             mean        std   \n",
       "Group                                                     \n",
       "A         0.10024  0.300323        10.052293  20.206232   \n",
       "B         0.12442  0.330063         9.984008  19.888507   \n",
       "\n",
       "      TransactionConvertedValue            \n",
       "                           mean       std  \n",
       "Group                                      \n",
       "A                      1.053095  7.364634  \n",
       "B                      1.237952  7.890833  "
      ]
     },
     "execution_count": 8,
     "metadata": {},
     "output_type": "execute_result"
    }
   ],
   "source": [
    "# point estimates of the likelihood of conversion and transaction per group\n",
    "df.groupby(__GROUP_COL__).agg(['mean', 'std'])"
   ]
  },
  {
   "cell_type": "code",
   "execution_count": 9,
   "metadata": {},
   "outputs": [
    {
     "data": {
      "text/plain": [
       "Group\n",
       "A    1.007642\n",
       "B    1.242210\n",
       "dtype: float64"
      ]
     },
     "execution_count": 9,
     "metadata": {},
     "output_type": "execute_result"
    }
   ],
   "source": [
    "# sanity check on the observed transaction values\n",
    "df.groupby(__GROUP_COL__).mean()[__CONVERSIONS_COL__] * df.groupby(__GROUP_COL__).mean()[__TRANSACTION_VALUE_COL__]"
   ]
  },
  {
   "cell_type": "code",
   "execution_count": 10,
   "metadata": {},
   "outputs": [
    {
     "data": {
      "text/html": [
       "<div>\n",
       "<style scoped>\n",
       "    .dataframe tbody tr th:only-of-type {\n",
       "        vertical-align: middle;\n",
       "    }\n",
       "\n",
       "    .dataframe tbody tr th {\n",
       "        vertical-align: top;\n",
       "    }\n",
       "\n",
       "    .dataframe thead tr th {\n",
       "        text-align: left;\n",
       "    }\n",
       "\n",
       "    .dataframe thead tr:last-of-type th {\n",
       "        text-align: right;\n",
       "    }\n",
       "</style>\n",
       "<table border=\"1\" class=\"dataframe\">\n",
       "  <thead>\n",
       "    <tr>\n",
       "      <th></th>\n",
       "      <th colspan=\"2\" halign=\"left\">Conversions</th>\n",
       "      <th colspan=\"2\" halign=\"left\">TransactionValue</th>\n",
       "      <th colspan=\"2\" halign=\"left\">TransactionConvertedValue</th>\n",
       "    </tr>\n",
       "    <tr>\n",
       "      <th></th>\n",
       "      <th>mean</th>\n",
       "      <th>std</th>\n",
       "      <th>mean</th>\n",
       "      <th>std</th>\n",
       "      <th>mean</th>\n",
       "      <th>std</th>\n",
       "    </tr>\n",
       "    <tr>\n",
       "      <th>Group</th>\n",
       "      <th></th>\n",
       "      <th></th>\n",
       "      <th></th>\n",
       "      <th></th>\n",
       "      <th></th>\n",
       "      <th></th>\n",
       "    </tr>\n",
       "  </thead>\n",
       "  <tbody>\n",
       "    <tr>\n",
       "      <th>A</th>\n",
       "      <td>1.0</td>\n",
       "      <td>0.0</td>\n",
       "      <td>10.505733</td>\n",
       "      <td>21.020233</td>\n",
       "      <td>10.505733</td>\n",
       "      <td>21.020233</td>\n",
       "    </tr>\n",
       "    <tr>\n",
       "      <th>B</th>\n",
       "      <td>1.0</td>\n",
       "      <td>0.0</td>\n",
       "      <td>9.949786</td>\n",
       "      <td>20.342558</td>\n",
       "      <td>9.949786</td>\n",
       "      <td>20.342558</td>\n",
       "    </tr>\n",
       "  </tbody>\n",
       "</table>\n",
       "</div>"
      ],
      "text/plain": [
       "      Conversions      TransactionValue            TransactionConvertedValue  \\\n",
       "             mean  std             mean        std                      mean   \n",
       "Group                                                                          \n",
       "A             1.0  0.0        10.505733  21.020233                 10.505733   \n",
       "B             1.0  0.0         9.949786  20.342558                  9.949786   \n",
       "\n",
       "                  \n",
       "             std  \n",
       "Group             \n",
       "A      21.020233  \n",
       "B      20.342558  "
      ]
     },
     "execution_count": 10,
     "metadata": {},
     "output_type": "execute_result"
    }
   ],
   "source": [
    "df[df[__CONVERSIONS_COL__] > 0].groupby(__GROUP_COL__).agg(['mean', 'std'])"
   ]
  },
  {
   "cell_type": "markdown",
   "metadata": {},
   "source": [
    "# Estimation Methods"
   ]
  },
  {
   "cell_type": "markdown",
   "metadata": {},
   "source": [
    "Filtering the data for a single group now, and trying to estimate its parameters using the posterior equations derived in the first section.  \n"
   ]
  },
  {
   "cell_type": "code",
   "execution_count": 11,
   "metadata": {},
   "outputs": [],
   "source": [
    "# Select the group to analyze\n",
    "SELECTED_GROUP = __CONTROL_LABEL__ \n",
    "# SELECTED_GROUP = __TREATMENT_LABEL__\n",
    "\n",
    "# Assuming df is your dataframe with the A/B test data\n",
    "yi = df[df[__GROUP_COL__] == SELECTED_GROUP][__CONVERSIONS_COL__]\n",
    "ti = df[df[__GROUP_COL__] == SELECTED_GROUP][__TRANSACTION_CONVERTED_VALUE_COL__]\n"
   ]
  },
  {
   "cell_type": "markdown",
   "metadata": {},
   "source": [
    "## MAP estimator"
   ]
  },
  {
   "cell_type": "markdown",
   "metadata": {},
   "source": [
    "An approach to find the set of parameters $p^\\ast, {\\alpha_T}^\\ast, {\\beta_T}^\\ast$ that minimize $-\\log{P(p, \\alpha_T, \\beta_T | \\mathcal{D})}$.  "
   ]
  },
  {
   "cell_type": "code",
   "execution_count": 12,
   "metadata": {},
   "outputs": [],
   "source": [
    "import numpy as np\n",
    "from scipy.optimize import minimize\n",
    "from scipy.special import gammaln\n",
    "import math\n",
    "\n",
    "# TODO: fix this function\n",
    "# I think there's something fundamentally wrong with this approach.  \n",
    "# Although we're looking to estimate p, alpha_T and beta_T, they are random variables with their own distributions parametrized by alpha_p, beta_p, a_T, b_T, c_T, d_T.  \n",
    "# So, we should be finding optimal values for alpha_p, beta_p, a_T, b_T, c_T, d_T, then computing the expected value of p, alpha_T and beta_T\n",
    "# and finally plugging them into the likelihood function to get the likelihood of the observed data given the parameters.\n",
    "\n",
    "\n",
    "def neg_log_posterior(params, yi, ti, epsilon=1e-12):\n",
    "    \"\"\"Negative log-posterior for the Bayesian model.\n",
    "    Inputs:\n",
    "    params (list): List of parameter values (alpha_p, beta_p, a_T, b_T, c_T, d_T)\n",
    "    yi (array): Array of conversion status (0 or 1)\n",
    "    ti (array): Array of transaction values (for converting users)\n",
    "    epsilon (float): Small value to prevent log(0)\n",
    "    Returns:\n",
    "    float: Negative log-posterior value\n",
    "    \"\"\"\n",
    "    # Unpack the parameters\n",
    "    alpha_p, beta_p, a_T, b_T, c_T, d_T = params\n",
    "    \n",
    "    # Compute the expected values of p, alpha_T, and beta_T from the parameters\n",
    "    p = alpha_p / (alpha_p + beta_p)\n",
    "    alpha_T = a_T / b_T\n",
    "    beta_T = c_T / d_T\n",
    "    \n",
    "    # Number of successes (sum of yi) and total number of observations\n",
    "    n_s = yi.sum()\n",
    "    N = len(yi)\n",
    "    nf = N - n_s\n",
    "    \n",
    "    # Sum terms for ti where yi == 1, using epsilon to prevent log(0)\n",
    "    H_yt = np.sum(yi * np.log(ti + epsilon))\n",
    "    R_yt = np.sum(yi * ti)\n",
    "    \n",
    "    # Log-posterior for p (Bernoulli likelihood + Beta prior)\n",
    "    log_p_term = np.log(p + epsilon) * (n_s + alpha_p - 1) + np.log(1 - p + epsilon) * (nf + beta_p - 1)\n",
    "    \n",
    "    # Log-posterior for alpha_T (Gamma prior)\n",
    "    log_alpha_T_term = (\n",
    "        alpha_T * (H_yt - b_T)\n",
    "        + np.log(alpha_T + epsilon) * (a_T - 1)\n",
    "        - n_s * gammaln(alpha_T)  # Use gammaln instead of math.gamma\n",
    "    )\n",
    "    \n",
    "    # Log-posterior for beta_T (Gamma prior)\n",
    "    log_beta_T_term = (\n",
    "        beta_T * (d_T + R_yt)\n",
    "        + np.log(beta_T + epsilon) * (c_T - 1)\n",
    "    )\n",
    "    \n",
    "    # Cross-term between alpha_T and beta_T\n",
    "    cross_term = alpha_T * np.log(beta_T + epsilon) * n_s\n",
    "    \n",
    "    # Total log-posterior (negated for minimization)\n",
    "    log_posterior = log_p_term + log_alpha_T_term + log_beta_T_term + cross_term\n",
    "    \n",
    "    return -log_posterior  # Negate for minimization\n"
   ]
  },
  {
   "cell_type": "code",
   "execution_count": 21,
   "metadata": {},
   "outputs": [
    {
     "name": "stdout",
     "output_type": "stream",
     "text": [
      "Initial guess for p: 10.02%\n",
      "Initial guess for average transaction value: 10.5057\n",
      "Initial guess for std of transaction value: 21.0202\n",
      "Initial guess for alpha_T: 0.2498\n",
      "Initial guess for beta_T: 0.0238\n",
      "Initial guess for alpha_p: 1.0024\n",
      "Initial guess for beta_p: 8.9976\n",
      "Initial guess for a_T (shape of alpha_T): 0.2498\n",
      "Initial guess for b_T (rate of alpha_T): 1.0000\n",
      "Initial guess for c_T (shape of beta_T): 0.0238\n",
      "Initial guess for d_T (rate of beta_T): 1.0000\n"
     ]
    }
   ],
   "source": [
    "# Initial guess for p based on observed conversion rate\n",
    "initial_guess_p = yi.mean()  # Mean of conversions to initialize p\n",
    "\n",
    "# Initial guess for transaction value based on observed data for converters (y_i = 1)\n",
    "point_estimate_atv = ti[yi > 0].mean()  # Mean transaction value\n",
    "std_estimate_atv = ti[yi > 0].std()  # Standard deviation of transaction value\n",
    "\n",
    "print(f\"Initial guess for p: {initial_guess_p:.2%}\")\n",
    "print(f\"Initial guess for average transaction value: {point_estimate_atv:.4f}\")\n",
    "print(f\"Initial guess for std of transaction value: {std_estimate_atv:.4f}\")\n",
    "\n",
    "# Convert initial guess for mean and standard deviation of transaction value\n",
    "# into initial guesses for alpha_T and beta_T of the Gamma distribution\n",
    "initial_guess_alpha_T, initial_guess_beta_T = transaction_parameters_given_average_ticket_value(\n",
    "    point_estimate_atv, \n",
    "    std_estimate_atv\n",
    ")\n",
    "\n",
    "print(f\"Initial guess for alpha_T: {initial_guess_alpha_T:.4f}\")\n",
    "print(f\"Initial guess for beta_T: {initial_guess_beta_T:.4f}\")\n",
    "\n",
    "# Now we need to derive initial guesses for the hyperparameters of p, alpha_T, and beta_T\n",
    "\n",
    "# Guess for the Beta distribution parameters for p (conversion probability)\n",
    "# Given that p is the mean of a Beta distribution, we can initialize with:\n",
    "initial_guess_alpha_p = initial_guess_p * 10  # Adjust based on prior confidence\n",
    "initial_guess_beta_p = (1 - initial_guess_p) * 10\n",
    "\n",
    "# Guess for the Gamma distribution parameters for alpha_T and beta_T\n",
    "# Since alpha_T and beta_T come from Gamma distributions, use the current estimates\n",
    "# to initialize the hyperparameters.\n",
    "# Gamma distribution mean is alpha/beta, variance is alpha/beta^2\n",
    "initial_guess_a_T = initial_guess_alpha_T  # Keep initial alpha_T as mean\n",
    "initial_guess_b_T = 1  # Can adjust based on confidence level in alpha_T\n",
    "initial_guess_c_T = initial_guess_beta_T  # Keep initial beta_T as mean\n",
    "initial_guess_d_T = 1  # Can adjust based on confidence level in beta_T\n",
    "\n",
    "# Combine all initial guesses for the hyperparameters into one vector\n",
    "initial_guess = [\n",
    "    initial_guess_alpha_p, initial_guess_beta_p,  # Beta distribution params for p\n",
    "    initial_guess_a_T, initial_guess_b_T,         # Gamma distribution params for alpha_T\n",
    "    initial_guess_c_T, initial_guess_d_T          # Gamma distribution params for beta_T\n",
    "]\n",
    "\n",
    "print(f\"Initial guess for alpha_p: {initial_guess_alpha_p:.4f}\")\n",
    "print(f\"Initial guess for beta_p: {initial_guess_beta_p:.4f}\")\n",
    "print(f\"Initial guess for a_T (shape of alpha_T): {initial_guess_a_T:.4f}\")\n",
    "print(f\"Initial guess for b_T (rate of alpha_T): {initial_guess_b_T:.4f}\")\n",
    "print(f\"Initial guess for c_T (shape of beta_T): {initial_guess_c_T:.4f}\")\n",
    "print(f\"Initial guess for d_T (rate of beta_T): {initial_guess_d_T:.4f}\")\n",
    "\n",
    "# Set bounds for the hyperparameters\n",
    "min_alpha_p = 1  # Minimum for alpha_p (Beta distribution for p)\n",
    "min_beta_p = 1   # Minimum for beta_p (Beta distribution for p)\n",
    "min_a_T = min(initial_guess_a_T, initial_guess_b_T, initial_guess_c_T, initial_guess_d_T) / 1000 # Minimum for alpha_T (Gamma distribution for alpha_T)\n",
    "min_b_T = min_a_T  # Minimum for b_T (Gamma distribution for alpha_T)\n",
    "min_c_T = min_a_T # Minimum for c_T (Gamma distribution for beta_T)\n",
    "min_d_T = min_a_T  # Minimum for d_T (Gamma distribution for beta_T)\n",
    "\n",
    "max_alpha_p = len(yi)  # No upper bound for Beta hyperparameters\n",
    "max_beta_p = len(yi)\n",
    "max_a_T = max(initial_guess_a_T, initial_guess_b_T, initial_guess_c_T, initial_guess_d_T) * 1000  # Adjust based on initial guesses\n",
    "max_b_T = max_a_T\n",
    "max_c_T = max_a_T\n",
    "max_d_T = max_a_T\n",
    "\n",
    "# Define bounds for the optimization process\n",
    "bounds = [\n",
    "    (min_alpha_p, max_alpha_p), (min_beta_p, max_beta_p),  # Beta distribution bounds for p\n",
    "    (min_a_T, max_a_T), (min_b_T, max_b_T),                # Gamma distribution bounds for alpha_T\n",
    "    (min_c_T, max_c_T), (min_d_T, max_d_T)                 # Gamma distribution bounds for beta_T\n",
    "]\n"
   ]
  },
  {
   "cell_type": "code",
   "execution_count": 22,
   "metadata": {},
   "outputs": [
    {
     "name": "stdout",
     "output_type": "stream",
     "text": [
      "Optimal alpha_p: 1.0000\n",
      "Optimal beta_p: 8.9809\n",
      "Optimal a_T: 611.4411\n",
      "Optimal b_T: 0.0000\n",
      "Optimal c_T: 1000.0000\n",
      "Optimal d_T: 0.0000\n",
      "MAP estimate of p: 10.02%\n",
      "Mean ATV: 0.61\n",
      "Std of ATV: 0.00\n"
     ]
    }
   ],
   "source": [
    "# Perform the optimization to find the MAP estimates\n",
    "result = minimize(\n",
    "    fun=neg_log_posterior, \n",
    "    x0=initial_guess, \n",
    "    args=(yi, ti), \n",
    "    bounds=bounds,\n",
    "    )\n",
    "\n",
    "# Extract the optimal values of alpha_p, beta_p, a_T, b_T, c_T, d_T\n",
    "alpha_p, beta_p, a_T, b_T, c_T, d_T = result.x\n",
    "print(f\"Optimal alpha_p: {alpha_p:.4f}\")\n",
    "print(f\"Optimal beta_p: {beta_p:.4f}\")\n",
    "print(f\"Optimal a_T: {a_T:.4f}\")\n",
    "print(f\"Optimal b_T: {b_T:.4f}\")\n",
    "print(f\"Optimal c_T: {c_T:.4f}\")\n",
    "print(f\"Optimal d_T: {d_T:.4f}\")\n",
    "\n",
    "# compute the MAP estimate of p, alpha_T and beta_T as expected values of the parameters\n",
    "p_MAP = alpha_p / (alpha_p + beta_p)\n",
    "alpha_T_MAP = a_T / b_T\n",
    "beta_T_MAP = c_T / d_T\n",
    "\n",
    "\n",
    "# Calculate the mean ATV from estimated alpha_T and beta_T\n",
    "mean_atv_map = alpha_T_MAP / beta_T_MAP\n",
    "std_atv_map = np.sqrt(alpha_T_MAP) / beta_T_MAP\n",
    "\n",
    "print(f\"MAP estimate of p: {p_MAP:.2%}\")\n",
    "print(f\"Mean ATV: {mean_atv_map:.2f}\")\n",
    "print(f\"Std of ATV: {std_atv_map:.2f}\")"
   ]
  },
  {
   "cell_type": "code",
   "execution_count": 16,
   "metadata": {},
   "outputs": [
    {
     "name": "stdout",
     "output_type": "stream",
     "text": [
      "Estimated mean of y_i (conversions): 0.4994\n",
      "Estimated std of y_i (conversions): 0.5000\n",
      "Estimated mean of t_i (transaction values): 0.2082\n",
      "Estimated std of t_i (transaction values): 0.0000\n",
      "Estimated mean of t_i (transaction values) for converters only: 0.2082\n",
      "Estimated std of t_i (transaction values) for converters only: 0.0000\n"
     ]
    }
   ],
   "source": [
    "# create synthetic data using the estimated parameters\n",
    "conversions_map, transaction_values_map = simulate_user_data(*(p_MAP, mean_atv_map, std_atv_map), num_users=num_total_users, seed=seed + 2)\n",
    "\n",
    "# Mean and std of t_i (transaction values, including non-converters with t_i = 0)\n",
    "mean_y = conversions_map.mean()\n",
    "std_y = conversions_map.std()\n",
    "mean_t = transaction_values_map.mean()\n",
    "std_t = transaction_values_map.std()\n",
    "\n",
    "\n",
    "# Output the results\n",
    "print(f\"Estimated mean of y_i (conversions): {mean_y:.4f}\")\n",
    "print(f\"Estimated std of y_i (conversions): {std_y:.4f}\")\n",
    "print(f\"Estimated mean of t_i (transaction values): {mean_t:.4f}\")\n",
    "print(f\"Estimated std of t_i (transaction values): {std_t:.4f}\")\n",
    "print(f\"Estimated mean of t_i (transaction values) for converters only: {np.mean(transaction_values_map[conversions_map > 0]):.4f}\")\n",
    "print(f\"Estimated std of t_i (transaction values) for converters only: {np.std(transaction_values_map[conversions_map > 0]):.4f}\")\n"
   ]
  },
  {
   "cell_type": "markdown",
   "metadata": {},
   "source": [
    "## MCMC (Hamiltonian Monte Carlo)"
   ]
  },
  {
   "cell_type": "code",
   "execution_count": null,
   "metadata": {},
   "outputs": [],
   "source": [
    "import pymc as pm\n",
    "import pytensor\n",
    "import pytensor.tensor as pt\n",
    "\n",
    "\n",
    "\n",
    "def run_pymc_model(y, t, alpha_p=1, beta_p=1, a_T=0.001, b_T=0.001, c_T=0.001, d_T=0.001, samples_per_chain=10, epsilon=1e-12):\n",
    "    \"\"\"Runs a PyMC model to estimate the posterior distribution of the parameters.\n",
    "    priors parameters: alpha_p, beta_p, a_T, b_T, c_T, d_T\n",
    "    \"\"\"\n",
    "\n",
    "    # Disable the use of C++ compiler and force Python-only implementations\n",
    "    # pytensor.config.cxx = \"\"\n",
    "    pytensor.config.cxx = \"C:/ProgramData/mingw64/mingw64/bin/g++\"\n",
    "    pytensor.config.blas__ldflags = \"-lopenblas\"\n",
    "\n",
    "    with pm.Model() as model:\n",
    "        # Priors for the parameters\n",
    "        p = pm.Beta('p', alpha=alpha_p, beta=beta_p)\n",
    "        alpha_T = pm.Gamma('alpha_T', alpha=a_T, beta=b_T)\n",
    "        beta_T = pm.Gamma('beta_T', alpha=c_T, beta=d_T)\n",
    "\n",
    "        # Likelihood function using aesara's gammaln function\n",
    "        likelihood = pm.Potential('likelihood', \n",
    "            pt.sum(\n",
    "                (1 - y) * pt.log(1 - p) + \n",
    "                y * (pt.log(p + epsilon) + alpha_T * pt.log(beta_T + epsilon) - pt.gammaln(alpha_T + epsilon) + \n",
    "                     (alpha_T - 1) * pt.log(t + epsilon) - beta_T * t)\n",
    "            )\n",
    "        )\n",
    "\n",
    "        # Sample from the posterior\n",
    "        trace = pm.sample(samples_per_chain, return_inferencedata=True, progressbar=True)\n",
    "\n",
    "    # Summarize the posterior samples\n",
    "    return trace"
   ]
  },
  {
   "cell_type": "code",
   "execution_count": null,
   "metadata": {},
   "outputs": [],
   "source": [
    "# just a toy example to test the model\n",
    "y = np.array([0, 1, 1, 0, 1])  # Example binary data\n",
    "t = np.array([0.5, 1.0, 2.0, 1.5, 1.2])  # Example time data\n",
    "\n",
    "trace = run_pymc_model(y, t, alpha_p=alpha_0_p, beta_p=beta_0_p, a_T=a0_T, b_T=b0_T, c_T=c0_T, d_T=d0_T, samples_per_chain=10)\n",
    "pm.summary(trace)\n"
   ]
  },
  {
   "cell_type": "code",
   "execution_count": null,
   "metadata": {},
   "outputs": [],
   "source": [
    "trace.posterior[\"p\"].mean().values, trace.posterior[\"alpha_T\"].mean().values, trace.posterior[\"beta_T\"].mean().values"
   ]
  },
  {
   "cell_type": "code",
   "execution_count": null,
   "metadata": {},
   "outputs": [],
   "source": [
    "## actual data\n",
    "trace = run_pymc_model(yi.values, ti.values, alpha_p=alpha_0_p, beta_p=beta_0_p, a_T=a0_T, b_T=b0_T, c_T=c0_T, d_T=d0_T, samples_per_chain=10)\n",
    "pm.summary(trace)"
   ]
  },
  {
   "cell_type": "code",
   "execution_count": null,
   "metadata": {},
   "outputs": [],
   "source": [
    "trace.posterior[\"p\"].mean().values, trace.posterior[\"alpha_T\"].mean().values, trace.posterior[\"beta_T\"].mean().values"
   ]
  },
  {
   "cell_type": "code",
   "execution_count": null,
   "metadata": {},
   "outputs": [],
   "source": [
    "# Calculate the mean ATV from estimated alpha_T and beta_T\n",
    "mean_atv_pm = trace.posterior[\"alpha_T\"].mean().values / trace.posterior[\"beta_T\"].mean().values\n",
    "print(f\"Mean ATV: {mean_atv_pm:.2f}\")"
   ]
  }
 ],
 "metadata": {
  "kernelspec": {
   "display_name": ".venv",
   "language": "python",
   "name": "python3"
  },
  "language_info": {
   "codemirror_mode": {
    "name": "ipython",
    "version": 3
   },
   "file_extension": ".py",
   "mimetype": "text/x-python",
   "name": "python",
   "nbconvert_exporter": "python",
   "pygments_lexer": "ipython3",
   "version": "3.11.1"
  }
 },
 "nbformat": 4,
 "nbformat_minor": 2
}
