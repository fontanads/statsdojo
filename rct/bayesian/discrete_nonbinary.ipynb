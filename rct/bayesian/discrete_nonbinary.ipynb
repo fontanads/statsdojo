{
 "cells": [
  {
   "cell_type": "markdown",
   "metadata": {},
   "source": [
    "Implementing a toy simulation for Bayesian A/B test with discrete non-binary success metric.  "
   ]
  },
  {
   "cell_type": "markdown",
   "metadata": {},
   "source": [
    "Context:  \n",
    "- user-level randomization\n",
    "- two groups\n",
    "- imbalanced weights\n",
    "- same user can have repeated measurements\n",
    "- multiple aggregation levels\n",
    "  - many reads a day\n",
    "  - daily aggregation\n",
    "  - cumulative aggregation over period"
   ]
  },
  {
   "cell_type": "markdown",
   "metadata": {},
   "source": [
    "Examples of practical business metrics that match the case:\n",
    "- transactions / user\n",
    "- logins / week / user?\n",
    "- sessions / user"
   ]
  },
  {
   "cell_type": "markdown",
   "metadata": {},
   "source": [
    "Should it be Poisson or Dirichlet?\n",
    "- Dirichlet has some constraint on probs adding up to 1 (maybe fits the share of something, normalized)\n",
    "- Poisson is more proper for count events (non-normalized)"
   ]
  },
  {
   "cell_type": "markdown",
   "metadata": {},
   "source": [
    "Alternative to Poisson: Negative Binomial Distribution\n",
    "> If the data is overdispersed (i.e., the variance is greater than the mean),  \n",
    "> which is common for count data, the Negative Binomial distribution can be a more flexible alternative to the Poisson distribution.  \n",
    "> The Negative Binomial allows for more variance by introducing an additional parameter.  \n",
    "> The Negative Binomial can be thought of as a Poisson-Gamma mixture, where the Poisson rate 𝜆  \n",
    "> λ itself follows a Gamma distribution. This results in a distribution that can handle overdispersion better."
   ]
  },
  {
   "cell_type": "markdown",
   "metadata": {},
   "source": []
  }
 ],
 "metadata": {
  "language_info": {
   "name": "python"
  }
 },
 "nbformat": 4,
 "nbformat_minor": 2
}
