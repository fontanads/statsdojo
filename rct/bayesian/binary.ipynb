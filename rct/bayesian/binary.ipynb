{
 "cells": [
  {
   "cell_type": "markdown",
   "metadata": {},
   "source": [
    "Implementing a toy simulation for Bayesian A/B test with binary success metric.  "
   ]
  },
  {
   "cell_type": "markdown",
   "metadata": {},
   "source": [
    "Context:  \n",
    "- user-level randomization\n",
    "- two groups\n",
    "- imbalanced weights\n",
    "- same user can have repeated measurements\n",
    "- multiple aggregation levels\n",
    "  - many reads a day\n",
    "  - daily aggregation\n",
    "  - cumulative aggregation over period"
   ]
  },
  {
   "cell_type": "markdown",
   "metadata": {},
   "source": [
    "Examples of practical business metrics that match the case:\n",
    "- conversions / purchases (converted or not converted, over all accesses)\n",
    "- clicks (clicked or not, over impressions)\n",
    "- refunds (refunded or not refunded)"
   ]
  },
  {
   "cell_type": "markdown",
   "metadata": {},
   "source": [
    "# Imports and auxiliar functions"
   ]
  },
  {
   "cell_type": "code",
   "execution_count": 1,
   "metadata": {},
   "outputs": [],
   "source": [
    "import numpy as np\n",
    "import pandas as pd\n",
    "import scipy.stats as stats\n",
    "from scipy.integrate import dblquad\n",
    "import matplotlib.pyplot as plt"
   ]
  },
  {
   "cell_type": "code",
   "execution_count": 2,
   "metadata": {},
   "outputs": [],
   "source": [
    "def bin_bayes_posterior_params(\n",
    "    beta_0: float, \n",
    "    alpha_0: float,\n",
    "    num_successes: int,\n",
    "    num_trials: int):\n",
    "    \"\"\"Update the beta and alpha parameters for a binomial likelihood.\n",
    "    Returns the posterior beta and alpha parameters.\n",
    "    \n",
    "    Prior is assumed to be a Beta distribution with parameters beta_0 and alpha_0.\n",
    "    Likelihood is assumed to be a Binomial distribution with num_successes and num_trials.\n",
    "    Because the Beta distribution is the conjugate prior to the Binomial distribution,\n",
    "    the posterior is also a Beta distribution.\n",
    "    \n",
    "    beta_0: float, prior beta parameter\n",
    "    alpha_0: float, prior alpha parameter\n",
    "    \"\"\"\n",
    "    alpha = alpha_0 + num_successes\n",
    "    beta = beta_0 + num_trials - num_successes  \n",
    "    return alpha, beta\n",
    "\n",
    "\n",
    "# calculate the confidence interval given the posterior distribution\n",
    "def beta_credible_interval(alpha: float, beta: float, prob: float):\n",
    "    \"\"\"Calculate the credible interval for a Beta distribution.\n",
    "    \n",
    "    alpha: float, alpha parameter\n",
    "    beta: float, beta parameter\n",
    "    prob: float, probability for the credible interval\n",
    "    \"\"\"\n",
    "    lower = stats.beta.ppf((1 - prob) / 2, alpha, beta)\n",
    "    upper = stats.beta.ppf((1 + prob) / 2, alpha, beta)\n",
    "    return lower, upper\n",
    "\n",
    "\n",
    "def generate_daily_user_events(\n",
    "    num_days: int,\n",
    "    num_users: int,\n",
    "    p_user_event: float,\n",
    "    num_daily_sample_trials: int,\n",
    "):\n",
    "    \"\"\"Generate daily user events. Returns a numpy array with the number of events per user per day.\"\"\"\n",
    "    \n",
    "    return np.random.choice([0, 1], size=(num_users, num_days, num_daily_sample_trials), p=[1-p_user_event, p_user_event]).sum(axis=2)\n",
    "\n",
    "\n",
    "def data_generation_process(\n",
    "    start_date: str,\n",
    "    end_date: str,\n",
    "    num_users: int,\n",
    "    num_daily_sample_trials: int,\n",
    "    p_user_event: float,\n",
    "    p_successful_event: float,\n",
    "    seed: int = 0):\n",
    "    \"\"\"Data generation process for a binary event, intra-day.\"\"\"\n",
    "    \n",
    "    num_days = (pd.to_datetime(end_date) - pd.to_datetime(start_date)).days\n",
    "    \n",
    "    np.random.seed(seed)\n",
    "\n",
    "    # Generate dates and users\n",
    "    dates = pd.date_range(start=start_date, periods=num_days)\n",
    "    user_ids = np.array([f\"user_{i+1}\" for i in range(num_users)])\n",
    "    \n",
    "    # output: users x days (rows x column), values: number of events per user per day\n",
    "    num_events_per_user_per_day = generate_daily_user_events(\n",
    "        num_days=num_days,\n",
    "        num_users=num_users,\n",
    "        p_user_event=p_user_event,\n",
    "        num_daily_sample_trials=num_daily_sample_trials,\n",
    "    )\n",
    "    \n",
    "    # For each event, generate a success/failure outcome\n",
    "    total_events = num_events_per_user_per_day.sum()  # Total number of events across all users and days\n",
    "    success_events = np.random.choice([0, 1], size=total_events, p=[1 - p_successful_event, p_successful_event])\n",
    "    \n",
    "    # Create arrays of user IDs, dates, and event IDs\n",
    "    user_ids_repeated = np.repeat(user_ids, num_events_per_user_per_day.sum(axis=1))\n",
    "    date_ids_repeated = np.repeat(np.tile(dates, num_users), num_events_per_user_per_day.flatten())\n",
    "    \n",
    "    # Flatten the number of events per user (total events for each user)\n",
    "    events_per_user = num_events_per_user_per_day.sum(axis=1)\n",
    "\n",
    "    # Step 1: Create event IDs\n",
    "    # We want to reset the event ID for each user, so we create cumulative indices\n",
    "    event_starts = np.cumsum(np.r_[0, events_per_user[:-1]])  # Starting indices for each user\n",
    "    event_offsets = np.repeat(event_starts, events_per_user)  # Repeat these starting points\n",
    "\n",
    "    # Step 2: Use np.arange to generate increasing event IDs and subtract the offsets\n",
    "    event_ids = np.arange(1, events_per_user.sum() + 1) - event_offsets\n",
    "        \n",
    "    \n",
    "    # Create DataFrame using vectorized data\n",
    "    event_df = pd.DataFrame({\n",
    "        \"uuid\": user_ids_repeated,\n",
    "        \"date\": date_ids_repeated,\n",
    "        \"event_id\": event_ids,\n",
    "        \"success\": success_events\n",
    "    })\n",
    "    \n",
    "    return event_df\n",
    "    "
   ]
  },
  {
   "cell_type": "markdown",
   "metadata": {},
   "source": [
    "# Simulation Parameters"
   ]
  },
  {
   "cell_type": "code",
   "execution_count": 3,
   "metadata": {},
   "outputs": [],
   "source": [
    "start_date = \"2021-01-01\"\n",
    "end_date = \"2021-01-30\"\n",
    "num_daily_sessions_per_user = 1  # Number of daily sessions per user\n",
    "p_user_daily_session_being_on_experiment = 1.  # probability that a user session is accounted for in the experiment; convertion samples are taken only on valid sessions\n",
    "\n",
    "total_num_users = 100000\n",
    "w_control = 0.5\n",
    "w_treatment = 1 - w_control\n",
    "\n",
    "true_p_success_control = 1.1e-2\n",
    "beta_0_control = 1\n",
    "alpha_0_control = 1\n",
    "\n",
    "true_p_success_treatment = 1.2e-2\n",
    "beta_0_treatment = 1\n",
    "alpha_0_treatment = 1\n",
    "\n",
    "baseline_seed = 0\n",
    "treatment_seed_offset = 345678\n",
    "\n",
    "ci_prob = 0.98\n",
    "\n",
    "num_users_control = int(total_num_users * w_control)\n",
    "num_users_treatment = total_num_users - num_users_control\n",
    "\n",
    "\n",
    "loss_threshold = 0.1e-2  # a percentage of acceptable uplift loss in case we choose the wrong arm"
   ]
  },
  {
   "cell_type": "markdown",
   "metadata": {},
   "source": [
    "# Generating Artificial data"
   ]
  },
  {
   "cell_type": "markdown",
   "metadata": {},
   "source": [
    "We can get creative here in the future and try to account for multiple segments of users in each arm.  \n",
    "They might have different conversion rates, appearance rates, weekly engagement, etc.  "
   ]
  },
  {
   "cell_type": "code",
   "execution_count": 4,
   "metadata": {},
   "outputs": [],
   "source": [
    "df_control = data_generation_process(\n",
    "    start_date=start_date,\n",
    "    end_date=end_date,\n",
    "    num_users=num_users_control,\n",
    "    num_daily_sample_trials=num_daily_sessions_per_user,\n",
    "    p_user_event=p_user_daily_session_being_on_experiment,\n",
    "    p_successful_event=true_p_success_control,\n",
    "    seed=baseline_seed)\n",
    "\n",
    "df_treatment = data_generation_process(\n",
    "    start_date=start_date,\n",
    "    end_date=end_date,\n",
    "    num_users=num_users_treatment,\n",
    "    num_daily_sample_trials=num_daily_sessions_per_user,\n",
    "    p_user_event=p_user_daily_session_being_on_experiment,\n",
    "    p_successful_event=true_p_success_treatment,\n",
    "    seed=baseline_seed + treatment_seed_offset)"
   ]
  },
  {
   "cell_type": "code",
   "execution_count": 5,
   "metadata": {},
   "outputs": [
    {
     "name": "stdout",
     "output_type": "stream",
     "text": [
      "<class 'pandas.core.frame.DataFrame'>\n",
      "RangeIndex: 1450000 entries, 0 to 1449999\n",
      "Data columns (total 4 columns):\n",
      " #   Column    Non-Null Count    Dtype         \n",
      "---  ------    --------------    -----         \n",
      " 0   uuid      1450000 non-null  object        \n",
      " 1   date      1450000 non-null  datetime64[ns]\n",
      " 2   event_id  1450000 non-null  int64         \n",
      " 3   success   1450000 non-null  int64         \n",
      "dtypes: datetime64[ns](1), int64(2), object(1)\n",
      "memory usage: 44.3+ MB\n"
     ]
    }
   ],
   "source": [
    "df_control.info()"
   ]
  },
  {
   "cell_type": "code",
   "execution_count": 6,
   "metadata": {},
   "outputs": [
    {
     "name": "stdout",
     "output_type": "stream",
     "text": [
      "<class 'pandas.core.frame.DataFrame'>\n",
      "RangeIndex: 1450000 entries, 0 to 1449999\n",
      "Data columns (total 4 columns):\n",
      " #   Column    Non-Null Count    Dtype         \n",
      "---  ------    --------------    -----         \n",
      " 0   uuid      1450000 non-null  object        \n",
      " 1   date      1450000 non-null  datetime64[ns]\n",
      " 2   event_id  1450000 non-null  int64         \n",
      " 3   success   1450000 non-null  int64         \n",
      "dtypes: datetime64[ns](1), int64(2), object(1)\n",
      "memory usage: 44.3+ MB\n"
     ]
    }
   ],
   "source": [
    "df_treatment.info()"
   ]
  },
  {
   "cell_type": "code",
   "execution_count": 7,
   "metadata": {},
   "outputs": [
    {
     "data": {
      "text/html": [
       "<div>\n",
       "<style scoped>\n",
       "    .dataframe tbody tr th:only-of-type {\n",
       "        vertical-align: middle;\n",
       "    }\n",
       "\n",
       "    .dataframe tbody tr th {\n",
       "        vertical-align: top;\n",
       "    }\n",
       "\n",
       "    .dataframe thead th {\n",
       "        text-align: right;\n",
       "    }\n",
       "</style>\n",
       "<table border=\"1\" class=\"dataframe\">\n",
       "  <thead>\n",
       "    <tr style=\"text-align: right;\">\n",
       "      <th></th>\n",
       "      <th>uuid</th>\n",
       "      <th>date</th>\n",
       "      <th>event_id</th>\n",
       "      <th>success</th>\n",
       "    </tr>\n",
       "  </thead>\n",
       "  <tbody>\n",
       "    <tr>\n",
       "      <th>0</th>\n",
       "      <td>user_1</td>\n",
       "      <td>2021-01-01</td>\n",
       "      <td>1</td>\n",
       "      <td>0</td>\n",
       "    </tr>\n",
       "    <tr>\n",
       "      <th>1</th>\n",
       "      <td>user_1</td>\n",
       "      <td>2021-01-02</td>\n",
       "      <td>2</td>\n",
       "      <td>0</td>\n",
       "    </tr>\n",
       "    <tr>\n",
       "      <th>2</th>\n",
       "      <td>user_1</td>\n",
       "      <td>2021-01-03</td>\n",
       "      <td>3</td>\n",
       "      <td>0</td>\n",
       "    </tr>\n",
       "    <tr>\n",
       "      <th>3</th>\n",
       "      <td>user_1</td>\n",
       "      <td>2021-01-04</td>\n",
       "      <td>4</td>\n",
       "      <td>0</td>\n",
       "    </tr>\n",
       "    <tr>\n",
       "      <th>4</th>\n",
       "      <td>user_1</td>\n",
       "      <td>2021-01-05</td>\n",
       "      <td>5</td>\n",
       "      <td>0</td>\n",
       "    </tr>\n",
       "  </tbody>\n",
       "</table>\n",
       "</div>"
      ],
      "text/plain": [
       "     uuid       date  event_id  success\n",
       "0  user_1 2021-01-01         1        0\n",
       "1  user_1 2021-01-02         2        0\n",
       "2  user_1 2021-01-03         3        0\n",
       "3  user_1 2021-01-04         4        0\n",
       "4  user_1 2021-01-05         5        0"
      ]
     },
     "execution_count": 7,
     "metadata": {},
     "output_type": "execute_result"
    }
   ],
   "source": [
    "df_control.head()"
   ]
  },
  {
   "cell_type": "markdown",
   "metadata": {},
   "source": [
    "# Computing posterior parameters from data"
   ]
  },
  {
   "cell_type": "markdown",
   "metadata": {},
   "source": [
    "Leave only the desired case uncommented.  "
   ]
  },
  {
   "cell_type": "markdown",
   "metadata": {},
   "source": [
    "## Case 1: any sample is a 'trial' over the whole period"
   ]
  },
  {
   "cell_type": "markdown",
   "metadata": {},
   "source": [
    "Randomization is at the trial / session level.  \n",
    "Any logged user action is counted as a sample of the Bernoulli model.  \n",
    "Users might account for more than one success or trials over the period.     "
   ]
  },
  {
   "cell_type": "code",
   "execution_count": 8,
   "metadata": {},
   "outputs": [],
   "source": [
    "# this is the simplest form, where we just calculate the number of successes and trials over the raw sessions datasets\n",
    "\n",
    "n_success_control = df_control['success'].sum()\n",
    "n_trials_control = len(df_control)\n",
    "\n",
    "n_success_treatment = df_treatment['success'].sum()\n",
    "n_trials_treatment = len(df_treatment)"
   ]
  },
  {
   "cell_type": "markdown",
   "metadata": {},
   "source": [
    "## Case 2: user-level conversion rate"
   ]
  },
  {
   "cell_type": "markdown",
   "metadata": {},
   "source": [
    "Randomization is at the user level.  \n",
    "A converted user in the group is accounted for only once over the test period.    "
   ]
  },
  {
   "cell_type": "code",
   "execution_count": 9,
   "metadata": {},
   "outputs": [],
   "source": [
    "# this method requires us to group by the user id\n",
    "# a converted user is a user that had at least one successfull session over the whole period\n",
    "# the number of trials here is equivalent to the number of users observed in the period\n",
    "\n",
    "# n_success_control = df_control.groupby('uuid')['success'].max().sum()\n",
    "# n_trials_control = len(df_control['uuid'].unique())\n",
    "\n",
    "# n_success_treatment = df_treatment.groupby('uuid')['success'].max().sum()\n",
    "# n_trials_treatment = len(df_treatment['uuid'].unique())"
   ]
  },
  {
   "cell_type": "markdown",
   "metadata": {},
   "source": [
    "## Inspecting posterior parameters"
   ]
  },
  {
   "cell_type": "code",
   "execution_count": 10,
   "metadata": {},
   "outputs": [
    {
     "name": "stdout",
     "output_type": "stream",
     "text": [
      "Number of successes (control): 16083 out of 1450000\n",
      "Number of successes (treatment): 17233 out of 1450000\n"
     ]
    }
   ],
   "source": [
    "print(f\"Number of successes (control): {n_success_control} out of {n_trials_control}\")\n",
    "print(f\"Number of successes (treatment): {n_success_treatment} out of {n_trials_treatment}\")"
   ]
  },
  {
   "cell_type": "code",
   "execution_count": 11,
   "metadata": {},
   "outputs": [
    {
     "data": {
      "text/plain": [
       "(np.int64(16084), np.int64(1433918))"
      ]
     },
     "execution_count": 11,
     "metadata": {},
     "output_type": "execute_result"
    }
   ],
   "source": [
    "alpha_post_control, beta_post_control =  bin_bayes_posterior_params(\n",
    "    beta_0=beta_0_control, \n",
    "    alpha_0=alpha_0_control,\n",
    "    num_successes=n_success_control,\n",
    "    num_trials=n_trials_control\n",
    ")\n",
    "alpha_post_control, beta_post_control"
   ]
  },
  {
   "cell_type": "code",
   "execution_count": 12,
   "metadata": {},
   "outputs": [
    {
     "data": {
      "text/plain": [
       "(np.int64(17234), np.int64(1432768))"
      ]
     },
     "execution_count": 12,
     "metadata": {},
     "output_type": "execute_result"
    }
   ],
   "source": [
    "alpha_post_treatment, beta_post_treatment =  bin_bayes_posterior_params(\n",
    "    beta_0=beta_0_treatment, \n",
    "    alpha_0=alpha_0_treatment,\n",
    "    num_successes=n_success_treatment,\n",
    "    num_trials=n_trials_treatment\n",
    ")\n",
    "alpha_post_treatment, beta_post_treatment"
   ]
  },
  {
   "cell_type": "code",
   "execution_count": 13,
   "metadata": {},
   "outputs": [
    {
     "data": {
      "text/plain": [
       "[17234, 1432768, 16084, 1433918]"
      ]
     },
     "execution_count": 13,
     "metadata": {},
     "output_type": "execute_result"
    }
   ],
   "source": [
    "[int(x) for x in (alpha_post_treatment,  beta_post_treatment,  alpha_post_control, beta_post_control)]"
   ]
  },
  {
   "cell_type": "code",
   "execution_count": 14,
   "metadata": {},
   "outputs": [
    {
     "data": {
      "text/plain": [
       "(np.float64(0.01188481119336387), np.float64(0.011091708839022291))"
      ]
     },
     "execution_count": 14,
     "metadata": {},
     "output_type": "execute_result"
    }
   ],
   "source": [
    "# equivalent to success rate\n",
    "((alpha_post_treatment - 1) / (beta_post_treatment + alpha_post_treatment), \n",
    "(alpha_post_control - 1) / (beta_post_control + alpha_post_control))"
   ]
  },
  {
   "cell_type": "markdown",
   "metadata": {},
   "source": [
    "## credible intervals"
   ]
  },
  {
   "cell_type": "code",
   "execution_count": 15,
   "metadata": {},
   "outputs": [
    {
     "data": {
      "text/plain": [
       "(np.float64(0.010891051276881522), np.float64(0.011295729151515763))"
      ]
     },
     "execution_count": 15,
     "metadata": {},
     "output_type": "execute_result"
    }
   ],
   "source": [
    "lower_control, upper_control = beta_credible_interval(alpha=alpha_post_control, beta=beta_post_control, prob=ci_prob)\n",
    "lower_control, upper_control"
   ]
  },
  {
   "cell_type": "code",
   "execution_count": 16,
   "metadata": {},
   "outputs": [
    {
     "data": {
      "text/plain": [
       "(np.float64(0.011677127284319501), np.float64(0.012095854635992748))"
      ]
     },
     "execution_count": 16,
     "metadata": {},
     "output_type": "execute_result"
    }
   ],
   "source": [
    "lower_treatment, upper_treatment = beta_credible_interval(alpha=alpha_post_treatment, beta=beta_post_treatment, prob=ci_prob)\n",
    "lower_treatment, upper_treatment"
   ]
  },
  {
   "cell_type": "markdown",
   "metadata": {},
   "source": [
    "## visualizing posteriors"
   ]
  },
  {
   "cell_type": "code",
   "execution_count": 17,
   "metadata": {},
   "outputs": [],
   "source": [
    "min_x = min(lower_control, lower_treatment)\n",
    "min_x = max(0, min_x - 0.1 * abs(min_x))\n",
    "max_x = max(upper_control, upper_treatment)\n",
    "max_x = min(1, max_x + 0.1 * abs(1 - max_x))\n",
    "\n",
    "x = np.linspace(min_x, max_x, int(1e6))\n",
    "# pdf for the control group\n",
    "y_control = stats.beta.pdf(x, alpha_post_control, beta_post_control)\n",
    "# pdf for the treatment group\n",
    "y_treatment = stats.beta.pdf(x, alpha_post_treatment, beta_post_treatment)"
   ]
  },
  {
   "cell_type": "code",
   "execution_count": 18,
   "metadata": {},
   "outputs": [],
   "source": [
    "def plot_dist(x, y, title):\n",
    "    plt.plot(x, y)\n",
    "    plt.title(title)\n",
    "    plt.xlabel(\"Success Rate\")\n",
    "    plt.ylabel(\"Density\")\n",
    "    plt.show()\n"
   ]
  },
  {
   "cell_type": "code",
   "execution_count": 19,
   "metadata": {},
   "outputs": [
    {
     "data": {
      "image/png": "[encoded data removed]",
      "text/plain": [
       "<Figure size 640x480 with 1 Axes>"
      ]
     },
     "metadata": {},
     "output_type": "display_data"
    }
   ],
   "source": [
    "plot_dist(x, y_control * y_treatment, \"Joint Posterior\")\n"
   ]
  },
  {
   "cell_type": "code",
   "execution_count": 20,
   "metadata": {},
   "outputs": [],
   "source": [
    "def plot_dist_with_ci(x, y_list, lower_list, upper_list, title, labels):\n",
    "    \"\"\"\n",
    "    Plots multiple distribution curves with confidence intervals on the same plot.\n",
    "    \n",
    "    Parameters:\n",
    "    x: list or array-like\n",
    "        The x-values (common for all curves).\n",
    "    y_list: list of lists or 2D array-like\n",
    "        A list of y-values for different curves to be plotted.\n",
    "    lower_list: list or array-like\n",
    "        A list of lower bounds for the confidence intervals.\n",
    "    upper_list: list or array-like\n",
    "        A list of upper bounds for the confidence intervals.\n",
    "    title: str\n",
    "        The title of the plot.\n",
    "    labels: list of str\n",
    "        Labels for the curves.\n",
    "    \"\"\"\n",
    "    \n",
    "    for y, lower, upper, label in zip(y_list, lower_list, upper_list, labels):\n",
    "        plt.plot(x, y, label=label)\n",
    "        plt.fill_between(x, y, where=(x >= lower) & (x <= upper), alpha=0.3)\n",
    "\n",
    "    plt.title(title)\n",
    "    plt.xlabel(\"Success Rate\")\n",
    "    plt.ylabel(\"Density\")\n",
    "    plt.legend()  # Add a legend\n",
    "    plt.xlim([min(lower_list) - 0.1 * abs(min(lower_list)), max(upper_list) + 0.1 * abs(max(upper_list))])\n",
    "    plt.show()\n",
    "\n"
   ]
  },
  {
   "cell_type": "code",
   "execution_count": 21,
   "metadata": {},
   "outputs": [
    {
     "data": {
      "image/png": "[encoded data removed]",
      "text/plain": [
       "<Figure size 640x480 with 1 Axes>"
      ]
     },
     "metadata": {},
     "output_type": "display_data"
    }
   ],
   "source": [
    "plot_dist_with_ci(x, [y_control, y_treatment], [lower_control, lower_treatment], [upper_control, upper_treatment], title='', labels=['control', 'treatment'])"
   ]
  },
  {
   "cell_type": "markdown",
   "metadata": {},
   "source": [
    "## Calculating prob. of best arm and loss functions"
   ]
  },
  {
   "cell_type": "markdown",
   "metadata": {},
   "source": [
    "In this section we go for a numerical integration approach instead of analytical closed solution or Monte Carlo numerical simulations.  "
   ]
  },
  {
   "cell_type": "code",
   "execution_count": 22,
   "metadata": {},
   "outputs": [],
   "source": [
    "def pdf_treatment(x):\n",
    "    return stats.beta.pdf(x, alpha_post_treatment, beta_post_treatment)\n",
    "\n",
    "def pdf_control(x):\n",
    "    return stats.beta.pdf(x, alpha_post_control, beta_post_control)\n",
    "\n",
    "# Function to integrate\n",
    "# For each value of x_treatment, integrate the control's PDF from 0 to x_treatment\n",
    "def integrand_treatment_times_control(x_control, x_treatment):\n",
    "    return pdf_control(x_control) * pdf_treatment(x_treatment) \n",
    "\n",
    "\n",
    "def loss_function_choose_control(x_control, x_treatment):\n",
    "    return max(0, x_treatment - x_control) * integrand_treatment_times_control(x_control, x_treatment)\n",
    "\n",
    "def loss_function_choose_treatment(x_control, x_treatment):\n",
    "    return max(0, x_control - x_treatment) * integrand_treatment_times_control(x_control, x_treatment)\n",
    "\n",
    "\n",
    "# Perform the double integration\n",
    "epsabs = 1e-8\n",
    "epsrel = 1e-8\n",
    "\n",
    "x_min = min(lower_control, lower_treatment)\n",
    "x_min = max(0, x_min - 0.1 * abs(x_min))\n",
    "x_max = max(upper_control, upper_treatment)\n",
    "x_max = min(1, x_max + 0.1 * abs(1 - x_max))\n",
    "# x_min, x_max = 0, 1\n"
   ]
  },
  {
   "cell_type": "code",
   "execution_count": 23,
   "metadata": {},
   "outputs": [
    {
     "data": {
      "text/plain": [
       "(0.9999999998831623, 5.261639498407629e-12)"
      ]
     },
     "execution_count": 23,
     "metadata": {},
     "output_type": "execute_result"
    }
   ],
   "source": [
    "prob_treatment_better, _ = dblquad(integrand_treatment_times_control, x_min, x_max, lambda x: x_min, lambda x: x, epsabs=epsabs, epsrel=epsrel)\n",
    "prob_control_better, _ = dblquad(integrand_treatment_times_control, x_min, x_max, lambda x: x, lambda x: x_max, epsabs=epsabs, epsrel=epsrel)\n",
    "\n",
    "(prob_treatment_better, prob_control_better)"
   ]
  },
  {
   "cell_type": "code",
   "execution_count": 24,
   "metadata": {},
   "outputs": [
    {
     "data": {
      "text/plain": [
       "(6.267545583204695e-17, 1.1578126991751642e-67)"
      ]
     },
     "execution_count": 24,
     "metadata": {},
     "output_type": "execute_result"
    }
   ],
   "source": [
    "expected_loss_control, _ = dblquad(loss_function_choose_control, x_min, x_max, x_min, x_max, epsabs=epsabs, epsrel=epsrel)\n",
    "expected_loss_treatment, _ = dblquad(loss_function_choose_treatment, x_min, x_max, x_min, x_max, epsabs=epsabs, epsrel=epsrel)\n",
    "\n",
    "(expected_loss_control, expected_loss_treatment)"
   ]
  },
  {
   "cell_type": "markdown",
   "metadata": {},
   "source": [
    "Focus on Magnitude vs. Likelihood:"
   ]
  },
  {
   "cell_type": "markdown",
   "metadata": {},
   "source": [
    "Posterior probability $p(\\theta_A > \\theta_B)$ only gives a binary comparison: it tells us how likely it is that A is better than B, \n",
    "but it ignores the magnitude of the difference.  \n",
    "It's a qualitative measure of the comparison, however $p(\\theta_A > \\theta_B)$ might lead to overly simplistic decisions.  \n",
    "For example, if \n",
    "$p(\\theta_A > \\theta_B)=0.55$ and $p(\\theta_B > \\theta_A) = 0.45$,\n",
    " a decision-maker might be tempted to choose A.  \n",
    " However, this doesn't tell us how much better A is likely to be, nor the potential downside of choosing A if B turns out to be better."
   ]
  },
  {
   "cell_type": "code",
   "execution_count": 25,
   "metadata": {},
   "outputs": [
    {
     "name": "stdout",
     "output_type": "stream",
     "text": [
      "Prob. of treatment being better: 100.00%\n",
      "Prob. of control being better: 0.00%\n",
      "Error prob. of choosing treatment when control is better: 0.00%\n",
      "Error prob. of choosing control when treatment is better: 100.00%\n"
     ]
    }
   ],
   "source": [
    "print(f\"Prob. of treatment being better: {prob_treatment_better:.2%}\")\n",
    "print(f\"Prob. of control being better: {prob_control_better:.2%}\")\n",
    "print(f\"Error prob. of choosing treatment when control is better: {1 - prob_treatment_better:.2%}\")\n",
    "print(f\"Error prob. of choosing control when treatment is better: {1 - prob_control_better:.2%}\")"
   ]
  },
  {
   "cell_type": "markdown",
   "metadata": {},
   "source": [
    "Expected loss, on the other hand, provides a quantitative measure that takes into account the magnitude of the difference between.  \n",
    "It gives insight into how bad the consequences could be if you make the wrong decision.  \n",
    "Expected loss integrates over the entire distribution and provides a risk-adjusted decision rule.  \n",
    "If the difference in expected loss between choosing A or B is large, it signals a stronger preference for one variant.  \n",
    "If the difference is small, it suggests more uncertainty, and you might want to run the test longer to gather more data.  \n",
    "\n",
    "Since expected loss is defined on the integral of $(\\theta_i - \\theta_j)^+$ ($\\forall (i,j) \\in \\lbrace (A, B), (B, A) \\rbrace$) times the posterior (a pdf), when assuming on $\\theta$ being a conversion rate, then the outcome will be upper bounded to 1.   "
   ]
  },
  {
   "cell_type": "code",
   "execution_count": 26,
   "metadata": {},
   "outputs": [
    {
     "name": "stdout",
     "output_type": "stream",
     "text": [
      "Expected loss for control: 0.0000%\n",
      "Control Expected loss below threshold: True\n",
      "Expected loss for treatment: 0.0000%\n",
      "Treatment Expected loss below threshold: True\n"
     ]
    }
   ],
   "source": [
    "print(f\"Expected loss for control: {expected_loss_control:.4%}\")\n",
    "print(f'Control Expected loss below threshold: {expected_loss_control < loss_threshold}')\n",
    "print(f\"Expected loss for treatment: {expected_loss_treatment:.4%}\")\n",
    "print(f'Treatment Expected loss below threshold: {expected_loss_treatment < loss_threshold}')"
   ]
  },
  {
   "cell_type": "markdown",
   "metadata": {},
   "source": [
    "Monte Carlo simulations can be useful when analytical solutions are not available or too expensive computationally.  \n",
    "E.g. computations for tests with more than two arms."
   ]
  },
  {
   "cell_type": "code",
   "execution_count": null,
   "metadata": {},
   "outputs": [],
   "source": []
  }
 ],
 "metadata": {
  "kernelspec": {
   "display_name": ".venv",
   "language": "python",
   "name": "python3"
  },
  "language_info": {
   "codemirror_mode": {
    "name": "ipython",
    "version": 3
   },
   "file_extension": ".py",
   "mimetype": "text/x-python",
   "name": "python",
   "nbconvert_exporter": "python",
   "pygments_lexer": "ipython3",
   "version": "3.11.1"
  }
 },
 "nbformat": 4,
 "nbformat_minor": 2
}
