{
 "cells": [
  {
   "cell_type": "code",
   "execution_count": null,
   "metadata": {},
   "outputs": [],
   "source": [
    "import os\n",
    "import numpy as np"
   ]
  },
  {
   "cell_type": "code",
   "execution_count": null,
   "metadata": {},
   "outputs": [],
   "source": [
    "from cmdstanpy import cmdstan_path, set_cmdstan_path\n",
    "\n",
    "# set the path to the CmdStan installation\n",
    "system_drive = os.environ.get(\"SystemDrive\", \"C:\")\n",
    "print(system_drive)\n",
    "path_to_cmdstan = os.path.join(system_drive + os.sep, \"Users\", \"fonta\", \"cmdstan\")\n",
    "print(path_to_cmdstan)\n",
    "set_cmdstan_path(path_to_cmdstan)\n",
    "\n",
    "cmdstan_path()"
   ]
  },
  {
   "cell_type": "code",
   "execution_count": null,
   "metadata": {},
   "outputs": [],
   "source": [
    "from cmdstanpy import CmdStanModel\n"
   ]
  },
  {
   "cell_type": "code",
   "execution_count": null,
   "metadata": {},
   "outputs": [],
   "source": [
    "# for reproducibility\n",
    "__NP_SEED__ = 23456789\n",
    "np.random.seed(__NP_SEED__)"
   ]
  },
  {
   "cell_type": "markdown",
   "metadata": {},
   "source": [
    "# Code-along Chapter 16"
   ]
  },
  {
   "cell_type": "markdown",
   "metadata": {},
   "source": [
    "## Code 1"
   ]
  },
  {
   "cell_type": "markdown",
   "metadata": {},
   "source": [
    "First example from pp. 371"
   ]
  },
  {
   "cell_type": "code",
   "execution_count": null,
   "metadata": {},
   "outputs": [],
   "source": [
    "MODEL_filename = \"code1_pp371.stan\""
   ]
  },
  {
   "cell_type": "code",
   "execution_count": null,
   "metadata": {},
   "outputs": [],
   "source": [
    "MCMC_chains = 4\n",
    "MCMC_warm_up_iters = 100\n",
    "MCMC_sampling_iters = 200"
   ]
  },
  {
   "cell_type": "code",
   "execution_count": null,
   "metadata": {},
   "outputs": [],
   "source": [
    "true_mu = 1.5\n",
    "true_sigma = 0.2\n",
    "num_samples = 100\n",
    "y_data = np.random.normal(loc=true_mu, scale=true_sigma, size=num_samples)\n",
    "data = {'N': num_samples, 'Y': y_data}"
   ]
  },
  {
   "cell_type": "code",
   "execution_count": null,
   "metadata": {},
   "outputs": [],
   "source": [
    "# Instantiate a STAN model\n",
    "stan_model_parent_dir = os.getcwd()\n",
    "print(stan_model_parent_dir)\n",
    "model = CmdStanModel(stan_file=os.path.join(stan_model_parent_dir, MODEL_filename))\n",
    "print(model)\n",
    "print(model.exe_info())"
   ]
  },
  {
   "cell_type": "code",
   "execution_count": null,
   "metadata": {},
   "outputs": [],
   "source": [
    "data"
   ]
  },
  {
   "cell_type": "code",
   "execution_count": null,
   "metadata": {},
   "outputs": [],
   "source": [
    "fit = model.sample(\n",
    "    data=data,\n",
    "    chains=MCMC_chains,\n",
    "    iter_warmup=MCMC_warm_up_iters,\n",
    "    iter_sampling=MCMC_sampling_iters,\n",
    "    show_console=True\n",
    ")\n",
    "fit"
   ]
  },
  {
   "cell_type": "code",
   "execution_count": null,
   "metadata": {},
   "outputs": [],
   "source": [
    "fit.summary()"
   ]
  },
  {
   "cell_type": "code",
   "execution_count": null,
   "metadata": {},
   "outputs": [],
   "source": []
  }
 ],
 "metadata": {
  "kernelspec": {
   "display_name": ".venv",
   "language": "python",
   "name": "python3"
  },
  "language_info": {
   "codemirror_mode": {
    "name": "ipython",
    "version": 3
   },
   "file_extension": ".py",
   "mimetype": "text/x-python",
   "name": "python",
   "nbconvert_exporter": "python",
   "pygments_lexer": "ipython3",
   "version": "3.11.1"
  }
 },
 "nbformat": 4,
 "nbformat_minor": 2
}
