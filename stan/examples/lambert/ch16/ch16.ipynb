{
 "cells": [
  {
   "cell_type": "code",
   "execution_count": null,
   "metadata": {},
   "outputs": [],
   "source": [
    "import os\n",
    "import numpy as np\n",
    "import pandas as pd\n",
    "import json\n",
    "import seaborn as sns\n",
    "import matplotlib.pyplot as plt\n",
    "import altair as alt"
   ]
  },
  {
   "cell_type": "code",
   "execution_count": null,
   "metadata": {},
   "outputs": [],
   "source": [
    "from cmdstanpy import cmdstan_path, set_cmdstan_path\n",
    "\n",
    "# set the path to the CmdStan installation\n",
    "system_drive = os.environ.get(\"SystemDrive\", \"C:\")\n",
    "print(system_drive)\n",
    "path_to_cmdstan = os.path.join(system_drive + os.sep, \"Users\", \"fonta\", \"cmdstan\")\n",
    "print(path_to_cmdstan)\n",
    "set_cmdstan_path(path_to_cmdstan)\n",
    "\n",
    "cmdstan_path()"
   ]
  },
  {
   "cell_type": "code",
   "execution_count": null,
   "metadata": {},
   "outputs": [],
   "source": [
    "from cmdstanpy import CmdStanModel"
   ]
  },
  {
   "cell_type": "code",
   "execution_count": null,
   "metadata": {},
   "outputs": [],
   "source": [
    "# for reproducibility\n",
    "__NP_SEED__ = 23456789\n",
    "np.random.seed(__NP_SEED__)"
   ]
  },
  {
   "cell_type": "markdown",
   "metadata": {},
   "source": [
    "# Code-along Chapter 16"
   ]
  },
  {
   "cell_type": "markdown",
   "metadata": {},
   "source": [
    "## Code 1: Main Blocks of a Stan code and exploring cmdstanpy outputs"
   ]
  },
  {
   "cell_type": "markdown",
   "metadata": {},
   "source": [
    "First example from pp. 371"
   ]
  },
  {
   "cell_type": "code",
   "execution_count": null,
   "metadata": {},
   "outputs": [],
   "source": [
    "MODEL_filename = \"code1_pp371.stan\""
   ]
  },
  {
   "cell_type": "code",
   "execution_count": null,
   "metadata": {},
   "outputs": [],
   "source": [
    "MCMC_chains = 4\n",
    "MCMC_warm_up_iters = 100\n",
    "MCMC_sampling_iters = 200"
   ]
  },
  {
   "cell_type": "code",
   "execution_count": null,
   "metadata": {},
   "outputs": [],
   "source": [
    "true_mu = 1.5\n",
    "true_sigma = 0.2\n",
    "num_samples = 100\n",
    "y_data = np.random.normal(loc=true_mu, scale=true_sigma, size=num_samples)\n",
    "data = {'N': num_samples, 'Y': y_data}"
   ]
  },
  {
   "cell_type": "code",
   "execution_count": null,
   "metadata": {},
   "outputs": [],
   "source": [
    "# Instantiate a STAN model\n",
    "stan_model_parent_dir = os.getcwd()\n",
    "print(stan_model_parent_dir)\n",
    "model = CmdStanModel(stan_file=os.path.join(stan_model_parent_dir, MODEL_filename))\n",
    "print(model)\n",
    "print(model.exe_info())"
   ]
  },
  {
   "cell_type": "code",
   "execution_count": null,
   "metadata": {},
   "outputs": [],
   "source": [
    "data"
   ]
  },
  {
   "cell_type": "code",
   "execution_count": null,
   "metadata": {},
   "outputs": [],
   "source": [
    "fit = model.sample(\n",
    "    data=data,\n",
    "    chains=MCMC_chains,\n",
    "    iter_warmup=MCMC_warm_up_iters,\n",
    "    iter_sampling=MCMC_sampling_iters,\n",
    "    show_console=True\n",
    ")"
   ]
  },
  {
   "cell_type": "code",
   "execution_count": null,
   "metadata": {},
   "outputs": [],
   "source": [
    "fit"
   ]
  },
  {
   "cell_type": "code",
   "execution_count": null,
   "metadata": {},
   "outputs": [],
   "source": [
    "print(\"Cmdstan Config\", fit.metadata.cmdstan_config, sep=\"\\n\")\n",
    "print(\"Stan Vars\", fit.metadata.stan_vars, sep=\"\\n\")\n",
    "print(\"Method Vars\", fit.metadata.method_vars, sep=\"\\n\")"
   ]
  },
  {
   "cell_type": "code",
   "execution_count": null,
   "metadata": {},
   "outputs": [],
   "source": [
    "(\n",
    "    fit.metadata.cmdstan_config['num_warmup'],\n",
    "    fit.metadata.cmdstan_config['num_samples'],\n",
    "    # fit.metadata.cmdstan_config['num_chains'],\n",
    "    fit.chains,\n",
    "    fit.metadata.cmdstan_config['draws_warmup'],\n",
    "    fit.metadata.cmdstan_config['draws_sampling'],\n",
    "    fit.metadata.cmdstan_config['algorithm'],\n",
    "    fit.metadata.cmdstan_config['engine'],\n",
    ")"
   ]
  },
  {
   "cell_type": "code",
   "execution_count": null,
   "metadata": {},
   "outputs": [],
   "source": [
    "fit.summary(percentiles=[5, 25, 50, 75, 95], sig_figs=2)"
   ]
  },
  {
   "cell_type": "code",
   "execution_count": null,
   "metadata": {},
   "outputs": [],
   "source": [
    "print(fit.diagnose())"
   ]
  },
  {
   "cell_type": "code",
   "execution_count": null,
   "metadata": {},
   "outputs": [],
   "source": [
    "fit.stan_variables().keys()"
   ]
  },
  {
   "cell_type": "code",
   "execution_count": null,
   "metadata": {},
   "outputs": [],
   "source": [
    "(\n",
    "    fit.stan_variable(\"mu\").shape,\n",
    "    fit.stan_variable(\"mu\").shape == (MCMC_chains * MCMC_sampling_iters, )\n",
    " )"
   ]
  },
  {
   "cell_type": "code",
   "execution_count": null,
   "metadata": {},
   "outputs": [],
   "source": [
    "df_draws = fit.draws_pd()\n",
    "df_draws"
   ]
  },
  {
   "cell_type": "code",
   "execution_count": null,
   "metadata": {},
   "outputs": [],
   "source": [
    "# plot histogram of var with hue by chain\n",
    "# var_name = \"mu\"\n",
    "var_name = \"sigma\"\n",
    "\n",
    "sns.histplot(\n",
    "    data=df_draws, \n",
    "    x=var_name, \n",
    "    hue='chain__', \n",
    "    bins=50, \n",
    "    kde=True, \n",
    "    palette=sns.color_palette(\"Set1\", n_colors=MCMC_chains)\n",
    ")\n",
    "plt.title(f\"Histogram of {var_name}\")"
   ]
  },
  {
   "cell_type": "code",
   "execution_count": null,
   "metadata": {},
   "outputs": [],
   "source": [
    "# plot histogram of var (all chains)\n",
    "var_name = \"mu\"\n",
    "# var_name = \"sigma\"\n",
    "\n",
    "sns.histplot(\n",
    "    data=df_draws, \n",
    "    x=var_name,  \n",
    "    bins=50, \n",
    "    kde=True\n",
    ")\n",
    "plt.title(f\"Histogram of {var_name}\")"
   ]
  },
  {
   "cell_type": "code",
   "execution_count": null,
   "metadata": {},
   "outputs": [],
   "source": []
  },
  {
   "cell_type": "markdown",
   "metadata": {},
   "source": [
    "## Code 2: Functions"
   ]
  },
  {
   "cell_type": "markdown",
   "metadata": {},
   "source": [
    "Introducing functions in pp. 381"
   ]
  },
  {
   "cell_type": "code",
   "execution_count": null,
   "metadata": {},
   "outputs": [],
   "source": [
    "MODEL_filename_2 = \"code2_pp381.stan\""
   ]
  },
  {
   "cell_type": "code",
   "execution_count": null,
   "metadata": {},
   "outputs": [],
   "source": [
    "num_samples_2 = 100\n",
    "\n",
    "# weights\n",
    "true_mu_x = 60\n",
    "true_sigma_x = 10\n",
    "x_data = np.random.normal(loc=true_mu_x, scale=true_sigma_x, size=num_samples_2)\n",
    "\n",
    "# heights model as function of weights\n",
    "true_beta = 0.3\n",
    "true_sigma_2 = 0.3\n",
    "y_data = true_beta * np.log(x_data) + np.random.normal(loc=0, scale=true_sigma_2, size=num_samples_2)\n",
    "\n",
    "data_2 = {'N': num_samples, 'Y': y_data, 'X': x_data}"
   ]
  },
  {
   "cell_type": "code",
   "execution_count": null,
   "metadata": {},
   "outputs": [],
   "source": [
    "# Instantiate a STAN model\n",
    "stan_model_parent_dir = os.getcwd()\n",
    "print(stan_model_parent_dir)\n",
    "model_2 = CmdStanModel(stan_file=os.path.join(stan_model_parent_dir, MODEL_filename_2))\n",
    "print(model_2)\n",
    "print(model_2.exe_info())"
   ]
  },
  {
   "cell_type": "code",
   "execution_count": null,
   "metadata": {},
   "outputs": [],
   "source": [
    "fit2 = model_2.sample(\n",
    "    data=data_2,\n",
    "    chains=MCMC_chains,\n",
    "    iter_warmup=MCMC_warm_up_iters,\n",
    "    iter_sampling=MCMC_sampling_iters,\n",
    "    show_console=True\n",
    ")"
   ]
  },
  {
   "cell_type": "code",
   "execution_count": null,
   "metadata": {},
   "outputs": [],
   "source": [
    "fit2.summary(percentiles=[5, 25, 50, 75, 95], sig_figs=2)"
   ]
  },
  {
   "cell_type": "markdown",
   "metadata": {},
   "source": [
    "## Code 3: Independent Sampling Example"
   ]
  },
  {
   "cell_type": "markdown",
   "metadata": {},
   "source": [
    "Generating independent samples of a distribution."
   ]
  },
  {
   "cell_type": "code",
   "execution_count": null,
   "metadata": {},
   "outputs": [],
   "source": [
    "# negative binomial 2 distribution\n",
    "MODEL_filename_3 = \"code_3_pp389.stan\""
   ]
  },
  {
   "cell_type": "code",
   "execution_count": null,
   "metadata": {},
   "outputs": [],
   "source": [
    "# Instantiate a STAN model\n",
    "stan_model_parent_dir = os.getcwd()\n",
    "print(stan_model_parent_dir)\n",
    "model_3 = CmdStanModel(stan_file=os.path.join(stan_model_parent_dir, MODEL_filename_3))\n",
    "print(model_3)\n",
    "print(model_3.exe_info())"
   ]
  },
  {
   "cell_type": "code",
   "execution_count": null,
   "metadata": {},
   "outputs": [],
   "source": [
    "fit3 = model_3.sample(\n",
    "    data={\n",
    "        'mu': 10,\n",
    "        'kappa': 5\n",
    "        },\n",
    "    fixed_param=True,\n",
    "    chains=1,\n",
    "    iter_warmup=1,\n",
    "    iter_sampling=4000,\n",
    "    show_console=True\n",
    ")"
   ]
  },
  {
   "cell_type": "code",
   "execution_count": null,
   "metadata": {},
   "outputs": [],
   "source": [
    "fit3.summary(percentiles=[5, 25, 50, 75, 95], sig_figs=2)"
   ]
  },
  {
   "cell_type": "code",
   "execution_count": null,
   "metadata": {},
   "outputs": [],
   "source": [
    "df3_draws = fit3.draws_pd()\n",
    "df3_draws"
   ]
  },
  {
   "cell_type": "code",
   "execution_count": null,
   "metadata": {},
   "outputs": [],
   "source": [
    "# plot histogram of var (all chains)\n",
    "var_name = \"Y\"\n",
    "\n",
    "sns.histplot(\n",
    "    data=df3_draws, \n",
    "    x=var_name, \n",
    "    bins=20,\n",
    "    kde=True\n",
    ")\n",
    "plt.title(f\"Histogram of {var_name}\")"
   ]
  },
  {
   "cell_type": "markdown",
   "metadata": {},
   "source": [
    "## Code 4: Discrete Parameters"
   ]
  },
  {
   "cell_type": "markdown",
   "metadata": {},
   "source": [
    "HMC doesn't support discrete parameters by default, thus there is a workaround to marginalize LPDFs and obtain estimation of discrete params."
   ]
  },
  {
   "cell_type": "code",
   "execution_count": null,
   "metadata": {},
   "outputs": [],
   "source": [
    "# negative binomial 2 distribution\n",
    "MODEL_filename_4 = \"code_4_pp403.stan\""
   ]
  },
  {
   "cell_type": "code",
   "execution_count": null,
   "metadata": {},
   "outputs": [],
   "source": [
    "# this was a clumpsy way to generate the data in R\n",
    "# it can definitely be done in a more organized way with Python and numpy\n",
    "\n",
    "nStudy = 20\n",
    "N = 10  # number of trials\n",
    "Z = np.zeros((N, nStudy), dtype=int)  # matrix of successes\n",
    "theta = np.array([0.1, 0.9])  # probability of success for each study\n",
    "state = np.zeros(nStudy)  # state of the study\n",
    "\n",
    "for i in range(nStudy):\n",
    "    if i < int(nStudy / 2):\n",
    "        state[i] = 1\n",
    "        Z[:, i] = np.random.binomial(n=1, p=theta[0], size=N)\n",
    "    else:\n",
    "        state[i] = 0\n",
    "        Z[:, i] = np.random.binomial(n=1, p=theta[1], size=N)\n",
    "        \n",
    "X = np.sum(Z, axis=0)  # sum of successes for each study (axis=0 means summing over rows, thus keeping the shape of the columns)\n",
    "print(Z.shape, X.shape, X.dtype)\n",
    "print('Z for first half of columns\\n', pd.DataFrame(Z[:, :int(nStudy / 2)]))\n",
    "print('Z for second half of columns\\n', pd.DataFrame(Z[:, int(nStudy / 2):]))\n",
    "data_4 = {'N': N, 'X': X, 'nStudy': nStudy}\n",
    "data_4"
   ]
  },
  {
   "cell_type": "code",
   "execution_count": null,
   "metadata": {},
   "outputs": [],
   "source": [
    "# Instantiate a STAN model\n",
    "stan_model_parent_dir = os.getcwd()\n",
    "print(stan_model_parent_dir)\n",
    "model_4 = CmdStanModel(stan_file=os.path.join(stan_model_parent_dir, MODEL_filename_4))\n",
    "print(model_4)\n",
    "print(model_4.exe_info())"
   ]
  },
  {
   "cell_type": "code",
   "execution_count": null,
   "metadata": {},
   "outputs": [],
   "source": [
    "fit4 = model_4.sample(\n",
    "    data=data_4,\n",
    "    chains=MCMC_chains,\n",
    "    iter_warmup=MCMC_warm_up_iters,\n",
    "    iter_sampling=MCMC_sampling_iters,\n",
    "    show_console=True\n",
    ")"
   ]
  },
  {
   "cell_type": "code",
   "execution_count": null,
   "metadata": {},
   "outputs": [],
   "source": [
    "fit4.summary(percentiles=[20, 50, 75], sig_figs=2)"
   ]
  },
  {
   "cell_type": "code",
   "execution_count": null,
   "metadata": {},
   "outputs": [],
   "source": [
    "fit4.stan_variable(\"theta\").shape"
   ]
  },
  {
   "cell_type": "code",
   "execution_count": null,
   "metadata": {},
   "outputs": [],
   "source": [
    "fit4.stan_variable(\"pstate\").shape"
   ]
  },
  {
   "cell_type": "code",
   "execution_count": null,
   "metadata": {},
   "outputs": [],
   "source": [
    "df4_draws = fit4.draws_pd()\n",
    "df4_draws = df4_draws[['chain__', 'iter__', 'draw__'] + [col for col in df4_draws.columns if ('theta' in col) or ('pstate' in col) or ('alpha' in col)]]\n",
    "df4_draws.round(1)"
   ]
  },
  {
   "cell_type": "code",
   "execution_count": null,
   "metadata": {},
   "outputs": [],
   "source": [
    "# check that the state is correctly inferred\n",
    "(fit4.stan_variable(\"pstate\").mean(axis=0) > 0.5).astype(int) - state"
   ]
  },
  {
   "cell_type": "code",
   "execution_count": null,
   "metadata": {},
   "outputs": [],
   "source": []
  }
 ],
 "metadata": {
  "kernelspec": {
   "display_name": ".venv",
   "language": "python",
   "name": "python3"
  },
  "language_info": {
   "codemirror_mode": {
    "name": "ipython",
    "version": 3
   },
   "file_extension": ".py",
   "mimetype": "text/x-python",
   "name": "python",
   "nbconvert_exporter": "python",
   "pygments_lexer": "ipython3",
   "version": "3.11.1"
  }
 },
 "nbformat": 4,
 "nbformat_minor": 2
}
