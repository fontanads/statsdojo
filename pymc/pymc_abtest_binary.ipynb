{
 "cells": [
  {
   "cell_type": "code",
   "execution_count": null,
   "metadata": {},
   "outputs": [],
   "source": [
    "import pandas as pd\n",
    "import numpy as np\n",
    "\n",
    "import pymc as pm\n",
    "import arviz as az\n",
    "import seaborn as sns"
   ]
  },
  {
   "cell_type": "code",
   "execution_count": 2,
   "metadata": {},
   "outputs": [],
   "source": [
    "# true values\n",
    "p_true = np.array([0.10, 0.095, 0.105])  # index 0 is control; others are treatment variants\n",
    "\n",
    "# sample size\n",
    "n_total = 10000\n",
    "\n",
    "weights_true = np.array([0.5, 0.3, 0.2])  # weights for control and treatment variants\n",
    "group_labels = ['control'] + [f'treatment_{i}' for i in range(1, len(weights_true))]\n",
    "\n",
    "n_samples = (weights_true * n_total).astype(int)\n",
    "\n",
    "# Initialize random number generator\n",
    "RANDOM_SEED = 8927\n",
    "rng = np.random.default_rng(RANDOM_SEED)"
   ]
  },
  {
   "cell_type": "code",
   "execution_count": null,
   "metadata": {},
   "outputs": [],
   "source": [
    "# user_id, group, converted\n",
    "\n",
    "def generate_dataframe(p, n, group_name):\n",
    "    return pd.DataFrame({\n",
    "        'user_id': np.arange(n),\n",
    "        'group': [group_name for _ in range(n)],\n",
    "        'converted': np.random.binomial(1, p, n)\n",
    "    })\n",
    "\n",
    "data_lst = []\n",
    "\n",
    "for i, (p, n, group_name) in enumerate(zip(p_true, n_samples, group_labels)):\n",
    "    data_lst.append(generate_dataframe(p, n, group_name))\n",
    "\n",
    "data = pd.concat(data_lst)\n",
    "data"
   ]
  },
  {
   "cell_type": "code",
   "execution_count": null,
   "metadata": {},
   "outputs": [],
   "source": [
    "sns.countplot(x='converted', hue='group', data=data)"
   ]
  },
  {
   "cell_type": "code",
   "execution_count": 5,
   "metadata": {},
   "outputs": [],
   "source": [
    "# pymc simulation of the difference in means between groups\n",
    "# priors: bernoilli distribution\n",
    "# likelihood: from data\n",
    "# posterior: beta\n",
    "basic_model = pm.Model()\n",
    "\n",
    "with basic_model:\n",
    "    # Priors for unknown model parameters (use vectors for multiple groups)\n",
    "    p = pm.Beta('p', alpha=1, beta=1, shape=len(group_labels))\n",
    "    \n",
    "    # Likelihood (sampling distribution) of observations    \n",
    "    for k, group_label in enumerate(group_labels):\n",
    "        pm.Bernoulli(f'obs_{k}', p=p[k], observed=data[data['group'] == group_label]['converted'])\n",
    "            \n",
    "        # p[k] best than p[i] for any k!=i, that is, p[k] - max(p_without_k)\n",
    "        p_without_k_max = pm.math.max(p[[i for i in range(len(group_labels)) if i != k]])\n",
    "        pm.Deterministic(f'delta_{k}', p[k] - p_without_k_max)\n",
    "\n",
    "    # Define the difference between each group's conversion rate and a reference\n",
    "    # Here, we use the maximum conversion rate among all groups as the reference\n",
    "    p_max = pm.math.max(p)\n",
    "    \n",
    "    # Loss function for each group\n",
    "    # The loss is the opportunity loss when choosing group k over the best group\n",
    "    loss = pm.Deterministic('loss', -(p - p_max))\n",
    "    # loss[k]: expected loss if group k is rolled out\n"
   ]
  },
  {
   "cell_type": "code",
   "execution_count": null,
   "metadata": {},
   "outputs": [],
   "source": [
    "# requires brew/choco install graphviz in your local machine and add python package to pyproject.toml as well\n",
    "pm.model_to_graphviz(basic_model)"
   ]
  },
  {
   "cell_type": "code",
   "execution_count": null,
   "metadata": {},
   "outputs": [],
   "source": [
    "n_draws = 1000\n",
    "n_chains = 4\n",
    "n_tune = 1000\n",
    "\n",
    "with basic_model:\n",
    "    # Sample from the posterior\n",
    "    trace = pm.sample(\n",
    "        draws=n_draws,\n",
    "        chains=n_chains,\n",
    "        tune=n_tune,\n",
    "        random_seed=RANDOM_SEED,\n",
    "        progressbar=True\n",
    "    )"
   ]
  },
  {
   "cell_type": "code",
   "execution_count": null,
   "metadata": {},
   "outputs": [],
   "source": [
    "trace"
   ]
  },
  {
   "cell_type": "code",
   "execution_count": null,
   "metadata": {},
   "outputs": [],
   "source": [
    "az.plot_trace(trace, combined=True)"
   ]
  },
  {
   "cell_type": "code",
   "execution_count": null,
   "metadata": {},
   "outputs": [],
   "source": [
    "# Analyze the posterior distributions\n",
    "\n",
    "# Summary statistics\n",
    "print(az.summary(trace))\n",
    "\n",
    "# Plot posterior distributions\n",
    "az.plot_posterior(trace)"
   ]
  },
  {
   "cell_type": "code",
   "execution_count": 29,
   "metadata": {},
   "outputs": [],
   "source": [
    "# Extract posterior samples\n",
    "delta_samples = np.stack([trace.posterior[f'delta_{k}'].values for k in range(len(group_labels))], axis=-1)\n",
    "loss = trace.posterior['loss'].values"
   ]
  },
  {
   "cell_type": "code",
   "execution_count": null,
   "metadata": {},
   "outputs": [],
   "source": [
    "delta_samples.shape, loss.shape"
   ]
  },
  {
   "cell_type": "code",
   "execution_count": null,
   "metadata": {},
   "outputs": [],
   "source": [
    "# Probability that treatment is better than control\n",
    "prob_better_treatment = np.mean(delta_samples > 0, axis=(0, 1))\n",
    "print(f\"Probability that treatment is better than the rest: {prob_better_treatment}\")\n",
    "\n",
    "# Expected loss if control is rolled out (missed opportunity)\n",
    "expected_loss_per_group = loss.mean(axis=(0, 1))\n",
    "print(f\"Expected loss if variant is rolled out: {expected_loss_per_group}\")\n",
    "\n",
    "\n",
    "loss_ratio = expected_loss_per_group / expected_loss_per_group[0]\n",
    "print(f\"Ratio of expected losses: {loss_ratio}\")"
   ]
  },
  {
   "cell_type": "code",
   "execution_count": null,
   "metadata": {},
   "outputs": [],
   "source": [
    "az.plot_energy(trace)"
   ]
  },
  {
   "cell_type": "code",
   "execution_count": null,
   "metadata": {},
   "outputs": [],
   "source": [
    "az.plot_forest(trace, combined=True, hdi_prob=0.95, r_hat=True)"
   ]
  },
  {
   "cell_type": "code",
   "execution_count": null,
   "metadata": {},
   "outputs": [],
   "source": []
  },
  {
   "cell_type": "code",
   "execution_count": null,
   "metadata": {},
   "outputs": [],
   "source": []
  }
 ],
 "metadata": {
  "kernelspec": {
   "display_name": ".venv",
   "language": "python",
   "name": "python3"
  },
  "language_info": {
   "codemirror_mode": {
    "name": "ipython",
    "version": 3
   },
   "file_extension": ".py",
   "mimetype": "text/x-python",
   "name": "python",
   "nbconvert_exporter": "python",
   "pygments_lexer": "ipython3",
   "version": "3.11.1"
  }
 },
 "nbformat": 4,
 "nbformat_minor": 2
}
